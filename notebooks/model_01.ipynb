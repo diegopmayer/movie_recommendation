{
 "cells": [
  {
   "cell_type": "markdown",
   "metadata": {},
   "source": [
    "### This part will be a clean data from columns by raw_data_with_labels and create a first model"
   ]
  },
  {
   "cell_type": "code",
   "execution_count": 126,
   "metadata": {},
   "outputs": [
    {
     "name": "stdout",
     "output_type": "stream",
     "text": [
      "Populating the interactive namespace from numpy and matplotlib\n"
     ]
    }
   ],
   "source": [
    "import pandas as pd\n",
    "import numpy as np\n",
    "import re\n",
    "import time\n",
    "\n",
    "import bs4 as bs4\n",
    "import json\n",
    "\n",
    "import glob\n",
    "import tqdm\n",
    "\n",
    "pd.set_option(\"max.columns\", 200)\n",
    "pd.set_option(\"max.rows\", 200)\n",
    "\n",
    "\n",
    "%matplotlib inline\n",
    "%pylab inline"
   ]
  },
  {
   "cell_type": "code",
   "execution_count": 127,
   "metadata": {},
   "outputs": [
    {
     "data": {
      "text/plain": [
       "(498, 16)"
      ]
     },
     "execution_count": 127,
     "metadata": {},
     "output_type": "execute_result"
    }
   ],
   "source": [
    "df = pd.read_csv('raw_data_with_labels.csv', index_col=0)\n",
    "df = df[df['y'].notnull()]\n",
    "df.shape"
   ]
  },
  {
   "cell_type": "code",
   "execution_count": 128,
   "metadata": {},
   "outputs": [
    {
     "data": {
      "text/plain": [
       "0.0    235.519126\n",
       "1.0     36.612022\n",
       "Name: y, dtype: float64"
      ]
     },
     "execution_count": 128,
     "metadata": {},
     "output_type": "execute_result"
    }
   ],
   "source": [
    "((df['y'].value_counts()/183)*100)  ## percentual of negative and positive"
   ]
  },
  {
   "cell_type": "code",
   "execution_count": 129,
   "metadata": {},
   "outputs": [],
   "source": [
    "from sklearn.linear_model import LogisticRegression\n",
    "from sklearn.tree import DecisionTreeClassifier\n",
    "from sklearn.model_selection import train_test_split"
   ]
  },
  {
   "cell_type": "code",
   "execution_count": 130,
   "metadata": {},
   "outputs": [],
   "source": [
    "df_clean = pd.DataFrame(index=df.index)"
   ]
  },
  {
   "cell_type": "markdown",
   "metadata": {},
   "source": [
    "## Data Cleaner\n",
    "    First of all chose the columns will be a possible feature\n",
    "    Data cleaner with regex from python \"Import re\"\n",
    "       create a new column with data get with re\n",
    "       transform string to datetime"
   ]
  },
  {
   "cell_type": "code",
   "execution_count": 131,
   "metadata": {},
   "outputs": [
    {
     "data": {
      "text/plain": [
       "(498, 16)"
      ]
     },
     "execution_count": 131,
     "metadata": {},
     "output_type": "execute_result"
    }
   ],
   "source": [
    "df.shape"
   ]
  },
  {
   "cell_type": "code",
   "execution_count": 132,
   "metadata": {},
   "outputs": [
    {
     "data": {
      "text/html": [
       "<div>\n",
       "<style scoped>\n",
       "    .dataframe tbody tr th:only-of-type {\n",
       "        vertical-align: middle;\n",
       "    }\n",
       "\n",
       "    .dataframe tbody tr th {\n",
       "        vertical-align: top;\n",
       "    }\n",
       "\n",
       "    .dataframe thead th {\n",
       "        text-align: right;\n",
       "    }\n",
       "</style>\n",
       "<table border=\"1\" class=\"dataframe\">\n",
       "  <thead>\n",
       "    <tr style=\"text-align: right;\">\n",
       "      <th></th>\n",
       "      <th>watch-title</th>\n",
       "      <th>y</th>\n",
       "      <th>watch-view-count</th>\n",
       "      <th>watch-time-text</th>\n",
       "      <th>content_watch-info-tag-list</th>\n",
       "      <th>watch7-headline</th>\n",
       "      <th>watch7-user-header</th>\n",
       "      <th>watch8-sentiment-actions</th>\n",
       "      <th>og:image</th>\n",
       "      <th>og:image:width</th>\n",
       "      <th>og:image:height</th>\n",
       "      <th>og:description</th>\n",
       "      <th>og:video:width</th>\n",
       "      <th>og:video:height</th>\n",
       "      <th>og:video:tag</th>\n",
       "      <th>channel_link_0</th>\n",
       "    </tr>\n",
       "  </thead>\n",
       "  <tbody>\n",
       "    <tr>\n",
       "      <th>0</th>\n",
       "      <td>How to Become A Machine Learning Engineer | Ho...</td>\n",
       "      <td>0.0</td>\n",
       "      <td>28.028 visualizações</td>\n",
       "      <td>Publicado em 3 de set. de 2018</td>\n",
       "      <td>Educação</td>\n",
       "      <td>#MachineLearningAlgorithms #Datasciencecourse ...</td>\n",
       "      <td>Simplilearn\\n\\n\\n\\n\\n\\n\\n\\n\\n\\n\\n\\n\\n\\n\\nCarre...</td>\n",
       "      <td>28.028 visualizações\\n\\n\\n\\n\\n\\n\\n\\n601\\n\\nGos...</td>\n",
       "      <td>https://i.ytimg.com/vi/-5hEYRt8JE0/maxresdefau...</td>\n",
       "      <td>1280.0</td>\n",
       "      <td>720.0</td>\n",
       "      <td>This video on \"How to become a Machine Learnin...</td>\n",
       "      <td>1280.0</td>\n",
       "      <td>720.0</td>\n",
       "      <td>simplilearn</td>\n",
       "      <td>/channel/UCsvqVGtbbyHaMoevxPAq9Fg</td>\n",
       "    </tr>\n",
       "    <tr>\n",
       "      <th>1</th>\n",
       "      <td>BLOOPERS - Behind The Scenes. | DATA SCIENCE x...</td>\n",
       "      <td>0.0</td>\n",
       "      <td>1.131 visualizações</td>\n",
       "      <td>Publicado em 16 de nov. de 2018</td>\n",
       "      <td>Pessoas e blogs</td>\n",
       "      <td>#FAIL #insidezalando\\n\\n\\n\\n    BLOOPERS - Beh...</td>\n",
       "      <td>Inside Zalando\\n\\n\\n\\n\\n\\n\\n\\n\\n\\n\\n\\n\\n\\nCarr...</td>\n",
       "      <td>1.131 visualizações\\n\\n\\n\\n\\n\\n\\n\\n20\\n\\nGosto...</td>\n",
       "      <td>https://i.ytimg.com/vi/-7GiiT0yEyk/maxresdefau...</td>\n",
       "      <td>1280.0</td>\n",
       "      <td>720.0</td>\n",
       "      <td>#FAIL :) Have fun - and join our teams: https:...</td>\n",
       "      <td>1280.0</td>\n",
       "      <td>720.0</td>\n",
       "      <td>employer branding</td>\n",
       "      <td>/channel/UCTPin8TK-KRSI9zo9FoxG0g</td>\n",
       "    </tr>\n",
       "  </tbody>\n",
       "</table>\n",
       "</div>"
      ],
      "text/plain": [
       "                                         watch-title    y  \\\n",
       "0  How to Become A Machine Learning Engineer | Ho...  0.0   \n",
       "1  BLOOPERS - Behind The Scenes. | DATA SCIENCE x...  0.0   \n",
       "\n",
       "       watch-view-count                  watch-time-text  \\\n",
       "0  28.028 visualizações   Publicado em 3 de set. de 2018   \n",
       "1   1.131 visualizações  Publicado em 16 de nov. de 2018   \n",
       "\n",
       "  content_watch-info-tag-list  \\\n",
       "0                    Educação   \n",
       "1             Pessoas e blogs   \n",
       "\n",
       "                                     watch7-headline  \\\n",
       "0  #MachineLearningAlgorithms #Datasciencecourse ...   \n",
       "1  #FAIL #insidezalando\\n\\n\\n\\n    BLOOPERS - Beh...   \n",
       "\n",
       "                                  watch7-user-header  \\\n",
       "0  Simplilearn\\n\\n\\n\\n\\n\\n\\n\\n\\n\\n\\n\\n\\n\\n\\nCarre...   \n",
       "1  Inside Zalando\\n\\n\\n\\n\\n\\n\\n\\n\\n\\n\\n\\n\\n\\nCarr...   \n",
       "\n",
       "                            watch8-sentiment-actions  \\\n",
       "0  28.028 visualizações\\n\\n\\n\\n\\n\\n\\n\\n601\\n\\nGos...   \n",
       "1  1.131 visualizações\\n\\n\\n\\n\\n\\n\\n\\n20\\n\\nGosto...   \n",
       "\n",
       "                                            og:image  og:image:width  \\\n",
       "0  https://i.ytimg.com/vi/-5hEYRt8JE0/maxresdefau...          1280.0   \n",
       "1  https://i.ytimg.com/vi/-7GiiT0yEyk/maxresdefau...          1280.0   \n",
       "\n",
       "   og:image:height                                     og:description  \\\n",
       "0            720.0  This video on \"How to become a Machine Learnin...   \n",
       "1            720.0  #FAIL :) Have fun - and join our teams: https:...   \n",
       "\n",
       "   og:video:width  og:video:height       og:video:tag  \\\n",
       "0          1280.0            720.0        simplilearn   \n",
       "1          1280.0            720.0  employer branding   \n",
       "\n",
       "                      channel_link_0  \n",
       "0  /channel/UCsvqVGtbbyHaMoevxPAq9Fg  \n",
       "1  /channel/UCTPin8TK-KRSI9zo9FoxG0g  "
      ]
     },
     "execution_count": 132,
     "metadata": {},
     "output_type": "execute_result"
    }
   ],
   "source": [
    "# To see how can we get the data in column watch-time-text, because, has a text and date\n",
    "df.head(2)"
   ]
  },
  {
   "cell_type": "markdown",
   "metadata": {},
   "source": [
    "##### possible features to convert\n",
    "    [watch-time-text], [watch-view-count], [watch-title], [watch8-sentiment-actions]"
   ]
  },
  {
   "cell_type": "code",
   "execution_count": 133,
   "metadata": {},
   "outputs": [],
   "source": [
    "# regex was a better way to get data\n",
    "# we need input the number 0 because a date format\n",
    "clean_date = df['watch-time-text'].str.extract(r\"(\\d+) de ([a-z]+)\\. de (\\d+)\")\n",
    "clean_date[0] = clean_date[0].map(lambda x: \"0\"+x[0] if len(str(x)) == 1 else x) \n",
    "\n",
    "# changed the portuguese to english format with capital letter, to converter\n",
    "month_map = {\n",
    "    'jan':'Jan',\n",
    "    'fev':'Feb',\n",
    "    'mar':'Mar',\n",
    "    'abr':'Apr',\n",
    "    'mai':'May',\n",
    "    'jun':'Jun',\n",
    "    'jul':'Jul',\n",
    "    'ago':'Aug',\n",
    "    'set':'Sep',\n",
    "    'out':'Oct',\n",
    "    'nov':'Nov',\n",
    "    'dez':'Dec'}\n",
    "\n",
    "clean_date[1] = clean_date[1].map(month_map)\n",
    "clean_date.dropna(axis=0, inplace=True)\n",
    "# join the three columns to only one column to convert\n",
    "clean_date = clean_date.apply(lambda x: \" \".join(x), axis=1)\n",
    "# we have two options here, change the order of column or \n",
    "# just input format at datetime function, it was better\n",
    "df_clean['date'] = pd.to_datetime(clean_date, format='%d %b %Y')"
   ]
  },
  {
   "cell_type": "code",
   "execution_count": 134,
   "metadata": {},
   "outputs": [],
   "source": [
    "# extract with regular expression getting only number and replace dot to empt\n",
    "view = df['watch-view-count'].str.extract(r'(\\d+\\.?\\d*\\.?\\d*)', expand=False)\n",
    "view = view.str.replace('.', '').fillna(0).astype(int)"
   ]
  },
  {
   "cell_type": "code",
   "execution_count": 135,
   "metadata": {},
   "outputs": [
    {
     "data": {
      "text/html": [
       "<div>\n",
       "<style scoped>\n",
       "    .dataframe tbody tr th:only-of-type {\n",
       "        vertical-align: middle;\n",
       "    }\n",
       "\n",
       "    .dataframe tbody tr th {\n",
       "        vertical-align: top;\n",
       "    }\n",
       "\n",
       "    .dataframe thead th {\n",
       "        text-align: right;\n",
       "    }\n",
       "</style>\n",
       "<table border=\"1\" class=\"dataframe\">\n",
       "  <thead>\n",
       "    <tr style=\"text-align: right;\">\n",
       "      <th></th>\n",
       "      <th>date</th>\n",
       "      <th>views</th>\n",
       "    </tr>\n",
       "  </thead>\n",
       "  <tbody>\n",
       "    <tr>\n",
       "      <th>0</th>\n",
       "      <td>2018-09-03</td>\n",
       "      <td>28028</td>\n",
       "    </tr>\n",
       "    <tr>\n",
       "      <th>1</th>\n",
       "      <td>2018-11-16</td>\n",
       "      <td>1131</td>\n",
       "    </tr>\n",
       "    <tr>\n",
       "      <th>2</th>\n",
       "      <td>2019-05-02</td>\n",
       "      <td>1816</td>\n",
       "    </tr>\n",
       "    <tr>\n",
       "      <th>3</th>\n",
       "      <td>2019-08-13</td>\n",
       "      <td>1171</td>\n",
       "    </tr>\n",
       "    <tr>\n",
       "      <th>4</th>\n",
       "      <td>2018-11-30</td>\n",
       "      <td>1228</td>\n",
       "    </tr>\n",
       "  </tbody>\n",
       "</table>\n",
       "</div>"
      ],
      "text/plain": [
       "        date  views\n",
       "0 2018-09-03  28028\n",
       "1 2018-11-16   1131\n",
       "2 2019-05-02   1816\n",
       "3 2019-08-13   1171\n",
       "4 2018-11-30   1228"
      ]
     },
     "execution_count": 135,
     "metadata": {},
     "output_type": "execute_result"
    }
   ],
   "source": [
    "df_clean['views'] = view  # get the views and create new column\n",
    "df_clean.head()"
   ]
  },
  {
   "cell_type": "markdown",
   "metadata": {},
   "source": [
    "## Features\n",
    "#### Will be choice only two or three features to test the first model"
   ]
  },
  {
   "cell_type": "code",
   "execution_count": 136,
   "metadata": {},
   "outputs": [],
   "source": [
    "features = pd.DataFrame(index=df.index)\n",
    "y = df['y'].copy()"
   ]
  },
  {
   "cell_type": "code",
   "execution_count": 137,
   "metadata": {},
   "outputs": [],
   "source": [
    "# for while to efect of data comparation left the same date to compare models\n",
    "# when you chose the model change to this\n",
    "# features['pub_time'] = (pd.datetime.now() - df_clean['date'])/np.timedelta64(1, 'D') \n",
    "features['pub_time'] = (pd.to_datetime('2020-02-23') - df_clean['date'])/np.timedelta64(1, 'D')\n",
    "features['views'] = df_clean['views']\n",
    "features['views_per_day'] = features['views'] / features['pub_time']"
   ]
  },
  {
   "cell_type": "code",
   "execution_count": 138,
   "metadata": {},
   "outputs": [
    {
     "data": {
      "text/plain": [
       "<matplotlib.axes._subplots.AxesSubplot at 0x1d4dfa51370>"
      ]
     },
     "execution_count": 138,
     "metadata": {},
     "output_type": "execute_result"
    },
    {
     "data": {
      "image/png": "[encoded data removed]",
      "text/plain": [
       "<Figure size 864x504 with 1 Axes>"
      ]
     },
     "metadata": {
      "needs_background": "light"
     },
     "output_type": "display_data"
    }
   ],
   "source": [
    "df_clean['date'].value_counts().plot(figsize=(12, 7))\n",
    "# as you can see, the counts numbers of date are instable, and not be able to use\n",
    "# than we will drop this column from features and left the views per days\n",
    "# it's more confiable"
   ]
  },
  {
   "cell_type": "code",
   "execution_count": 180,
   "metadata": {},
   "outputs": [],
   "source": [
    "features = features.drop('pub_time', axis=1)"
   ]
  },
  {
   "cell_type": "markdown",
   "metadata": {},
   "source": [
    "# Model 01"
   ]
  },
  {
   "cell_type": "code",
   "execution_count": 181,
   "metadata": {},
   "outputs": [],
   "source": [
    "from sklearn.tree import DecisionTreeClassifier "
   ]
  },
  {
   "cell_type": "code",
   "execution_count": 182,
   "metadata": {},
   "outputs": [
    {
     "data": {
      "text/plain": [
       "((258, 2), (240, 2), (258,), (240,))"
      ]
     },
     "execution_count": 182,
     "metadata": {},
     "output_type": "execute_result"
    }
   ],
   "source": [
    "# divided around 50%, not exatly, but close that\n",
    "Xtrain, Xval = features[df_clean['date'] <= '2019-04-30'], features[df_clean['date'] > '2019-04-30']\n",
    "ytrain, yval = y[df_clean['date'] <= '2019-04-30'], y[df_clean['date'] > '2019-04-30']\n",
    "Xtrain.shape, Xval.shape, ytrain.shape, yval.shape"
   ]
  },
  {
   "cell_type": "code",
   "execution_count": 206,
   "metadata": {},
   "outputs": [
    {
     "data": {
      "text/plain": [
       "DecisionTreeClassifier(class_weight='balanced', max_depth=2, random_state=0)"
      ]
     },
     "execution_count": 206,
     "metadata": {},
     "output_type": "execute_result"
    }
   ],
   "source": [
    "mdl = DecisionTreeClassifier(random_state=0, max_depth=2, class_weight='balanced')\n",
    "mdl.fit(Xtrain, ytrain)"
   ]
  },
  {
   "cell_type": "code",
   "execution_count": 207,
   "metadata": {},
   "outputs": [],
   "source": [
    "prob = mdl.predict_proba(Xval)[:, 1]"
   ]
  },
  {
   "cell_type": "code",
   "execution_count": 208,
   "metadata": {},
   "outputs": [],
   "source": [
    "target = mdl.predict(Xval)"
   ]
  },
  {
   "cell_type": "code",
   "execution_count": 209,
   "metadata": {},
   "outputs": [],
   "source": [
    "from sklearn.metrics import average_precision_score, f1_score, roc_auc_score"
   ]
  },
  {
   "cell_type": "code",
   "execution_count": 210,
   "metadata": {},
   "outputs": [
    {
     "data": {
      "text/plain": [
       "0.1303966433276778"
      ]
     },
     "execution_count": 210,
     "metadata": {},
     "output_type": "execute_result"
    }
   ],
   "source": [
    "average_precision_score(yval, prob)"
   ]
  },
  {
   "cell_type": "code",
   "execution_count": 211,
   "metadata": {},
   "outputs": [
    {
     "data": {
      "text/plain": [
       "0.21917808219178087"
      ]
     },
     "execution_count": 211,
     "metadata": {},
     "output_type": "execute_result"
    }
   ],
   "source": [
    "f1_score(yval, target)"
   ]
  },
  {
   "cell_type": "code",
   "execution_count": 212,
   "metadata": {},
   "outputs": [
    {
     "data": {
      "text/plain": [
       "0.536525576074522"
      ]
     },
     "execution_count": 212,
     "metadata": {},
     "output_type": "execute_result"
    }
   ],
   "source": [
    "roc_auc_score(yval, target)"
   ]
  },
  {
   "cell_type": "code",
   "execution_count": 213,
   "metadata": {},
   "outputs": [
    {
     "data": {
      "text/plain": [
       "0.53374734433731"
      ]
     },
     "execution_count": 213,
     "metadata": {},
     "output_type": "execute_result"
    }
   ],
   "source": [
    "roc_auc_score(yval, prob)\n"
   ]
  },
  {
   "cell_type": "code",
   "execution_count": 214,
   "metadata": {},
   "outputs": [],
   "source": [
    "from sklearn.tree import plot_tree"
   ]
  },
  {
   "cell_type": "code",
   "execution_count": 215,
   "metadata": {},
   "outputs": [
    {
     "data": {
      "text/plain": [
       "Index(['views', 'views_per_day'], dtype='object')"
      ]
     },
     "execution_count": 215,
     "metadata": {},
     "output_type": "execute_result"
    }
   ],
   "source": [
    "Xtrain.columns"
   ]
  },
  {
   "cell_type": "code",
   "execution_count": 216,
   "metadata": {},
   "outputs": [
    {
     "data": {
      "image/png": "[encoded data removed]",
      "text/plain": [
       "<Figure size 1080x720 with 1 Axes>"
      ]
     },
     "metadata": {
      "needs_background": "light"
     },
     "output_type": "display_data"
    }
   ],
   "source": [
    "fig, ax = pylab.subplots(1,1, figsize=(15,10))\n",
    "plot_tree(mdl, ax=ax, feature_names=Xtrain.columns)\n",
    "#plt.savefig('tree', dpi=150)\n",
    "plt.show()"
   ]
  },
  {
   "cell_type": "code",
   "execution_count": null,
   "metadata": {},
   "outputs": [],
   "source": []
  },
  {
   "cell_type": "code",
   "execution_count": null,
   "metadata": {},
   "outputs": [],
   "source": []
  }
 ],
 "metadata": {
  "kernelspec": {
   "display_name": "Python 3",
   "language": "python",
   "name": "python3"
  },
  "language_info": {
   "codemirror_mode": {
    "name": "ipython",
    "version": 3
   },
   "file_extension": ".py",
   "mimetype": "text/x-python",
   "name": "python",
   "nbconvert_exporter": "python",
   "pygments_lexer": "ipython3",
   "version": "3.8.2"
  }
 },
 "nbformat": 4,
 "nbformat_minor": 4
}
