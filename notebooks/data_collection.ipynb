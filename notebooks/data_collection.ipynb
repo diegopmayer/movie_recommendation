{
 "cells": [
  {
   "cell_type": "markdown",
   "metadata": {},
   "source": [
    "# Data Collection from json file\n",
    "* Afer the search data from youtube \"WebScrapin\", will safe json file\n",
    "* Get this file and read and understand about data"
   ]
  },
  {
   "cell_type": "code",
   "execution_count": 1,
   "metadata": {},
   "outputs": [],
   "source": [
    "import pandas as pd\n",
    "import numpy as np\n",
    "import re\n",
    "import time\n",
    "\n",
    "import requests as rq\n",
    "import bs4 as bs4\n",
    "import json\n",
    "import tqdm\n",
    "import glob"
   ]
  },
  {
   "cell_type": "code",
   "execution_count": 2,
   "metadata": {},
   "outputs": [],
   "source": [
    "df = pd.read_json('./parsed_videos.json', lines=True)"
   ]
  },
  {
   "cell_type": "code",
   "execution_count": 3,
   "metadata": {},
   "outputs": [
    {
     "data": {
      "text/html": [
       "<div>\n",
       "<style scoped>\n",
       "    .dataframe tbody tr th:only-of-type {\n",
       "        vertical-align: middle;\n",
       "    }\n",
       "\n",
       "    .dataframe tbody tr th {\n",
       "        vertical-align: top;\n",
       "    }\n",
       "\n",
       "    .dataframe thead th {\n",
       "        text-align: right;\n",
       "    }\n",
       "</style>\n",
       "<table border=\"1\" class=\"dataframe\">\n",
       "  <thead>\n",
       "    <tr style=\"text-align: right;\">\n",
       "      <th></th>\n",
       "      <th>link</th>\n",
       "      <th>title</th>\n",
       "      <th>query</th>\n",
       "    </tr>\n",
       "  </thead>\n",
       "  <tbody>\n",
       "    <tr>\n",
       "      <th>0</th>\n",
       "      <td>/watch?v=zyTDEa-ReVg</td>\n",
       "      <td>What you always wanted to know about Deep Lear...</td>\n",
       "      <td>machine+learning</td>\n",
       "    </tr>\n",
       "    <tr>\n",
       "      <th>1</th>\n",
       "      <td>/watch?v=L9daqcnxu-U</td>\n",
       "      <td>Machine Learning Experiments Management with N...</td>\n",
       "      <td>machine+learning</td>\n",
       "    </tr>\n",
       "    <tr>\n",
       "      <th>2</th>\n",
       "      <td>/watch?v=dnjTxUkp0Ag</td>\n",
       "      <td>Bridging Game Theory and Deep Learning Opening...</td>\n",
       "      <td>machine+learning</td>\n",
       "    </tr>\n",
       "    <tr>\n",
       "      <th>3</th>\n",
       "      <td>/watch?v=XwkW6dtXJCQ</td>\n",
       "      <td>Trade-offs in Machine Learning - Krishna Gogineni</td>\n",
       "      <td>machine+learning</td>\n",
       "    </tr>\n",
       "    <tr>\n",
       "      <th>4</th>\n",
       "      <td>/watch?v=apcQ49BpDD8</td>\n",
       "      <td>How To Debug Deep Learning Programs | A Simple...</td>\n",
       "      <td>machine+learning</td>\n",
       "    </tr>\n",
       "  </tbody>\n",
       "</table>\n",
       "</div>"
      ],
      "text/plain": [
       "                   link                                              title  \\\n",
       "0  /watch?v=zyTDEa-ReVg  What you always wanted to know about Deep Lear...   \n",
       "1  /watch?v=L9daqcnxu-U  Machine Learning Experiments Management with N...   \n",
       "2  /watch?v=dnjTxUkp0Ag  Bridging Game Theory and Deep Learning Opening...   \n",
       "3  /watch?v=XwkW6dtXJCQ  Trade-offs in Machine Learning - Krishna Gogineni   \n",
       "4  /watch?v=apcQ49BpDD8  How To Debug Deep Learning Programs | A Simple...   \n",
       "\n",
       "              query  \n",
       "0  machine+learning  \n",
       "1  machine+learning  \n",
       "2  machine+learning  \n",
       "3  machine+learning  \n",
       "4  machine+learning  "
      ]
     },
     "execution_count": 3,
     "metadata": {},
     "output_type": "execute_result"
    }
   ],
   "source": [
    "df.head()"
   ]
  },
  {
   "cell_type": "code",
   "execution_count": 4,
   "metadata": {},
   "outputs": [
    {
     "data": {
      "text/html": [
       "<div>\n",
       "<style scoped>\n",
       "    .dataframe tbody tr th:only-of-type {\n",
       "        vertical-align: middle;\n",
       "    }\n",
       "\n",
       "    .dataframe tbody tr th {\n",
       "        vertical-align: top;\n",
       "    }\n",
       "\n",
       "    .dataframe thead th {\n",
       "        text-align: right;\n",
       "    }\n",
       "</style>\n",
       "<table border=\"1\" class=\"dataframe\">\n",
       "  <thead>\n",
       "    <tr style=\"text-align: right;\">\n",
       "      <th></th>\n",
       "      <th>link</th>\n",
       "      <th>title</th>\n",
       "      <th>query</th>\n",
       "    </tr>\n",
       "  </thead>\n",
       "  <tbody>\n",
       "    <tr>\n",
       "      <th>count</th>\n",
       "      <td>1864</td>\n",
       "      <td>1864</td>\n",
       "      <td>1864</td>\n",
       "    </tr>\n",
       "    <tr>\n",
       "      <th>unique</th>\n",
       "      <td>1734</td>\n",
       "      <td>1729</td>\n",
       "      <td>3</td>\n",
       "    </tr>\n",
       "    <tr>\n",
       "      <th>top</th>\n",
       "      <td>/watch?v=C-4EZOxM0SU</td>\n",
       "      <td>Data Science Now - #5 \"Math for Machine Learning\"</td>\n",
       "      <td>data+science</td>\n",
       "    </tr>\n",
       "    <tr>\n",
       "      <th>freq</th>\n",
       "      <td>4</td>\n",
       "      <td>4</td>\n",
       "      <td>650</td>\n",
       "    </tr>\n",
       "  </tbody>\n",
       "</table>\n",
       "</div>"
      ],
      "text/plain": [
       "                        link  \\\n",
       "count                   1864   \n",
       "unique                  1734   \n",
       "top     /watch?v=C-4EZOxM0SU   \n",
       "freq                       4   \n",
       "\n",
       "                                                    title         query  \n",
       "count                                                1864          1864  \n",
       "unique                                               1729             3  \n",
       "top     Data Science Now - #5 \"Math for Machine Learning\"  data+science  \n",
       "freq                                                    4           650  "
      ]
     },
     "execution_count": 4,
     "metadata": {},
     "output_type": "execute_result"
    }
   ],
   "source": [
    "df.describe()"
   ]
  },
  {
   "cell_type": "code",
   "execution_count": 5,
   "metadata": {},
   "outputs": [],
   "source": [
    "links_list = df['link'].unique()"
   ]
  },
  {
   "cell_type": "code",
   "execution_count": null,
   "metadata": {},
   "outputs": [],
   "source": [
    "url = 'https://youtube.com{link}'\n",
    "\n",
    "for link in links_list:\n",
    "    urll = url.format(link=link)\n",
    "    print(urll)\n",
    "    response = rq.get(urll)\n",
    "    \n",
    "    link_name = re.search('v=(.*)', link).group(1)\n",
    "    print(link_name)\n",
    "    \n",
    "    with open('./dados_brutos/video_{}.html'.format(link_name), 'w+', encoding='utf-8') as output:\n",
    "        output.write(response.text)\n",
    "    time.sleep(2)"
   ]
  },
  {
   "cell_type": "markdown",
   "metadata": {},
   "source": [
    "# Data Processing"
   ]
  },
  {
   "cell_type": "code",
   "execution_count": 3,
   "metadata": {},
   "outputs": [
    {
     "data": {
      "application/vnd.jupyter.widget-view+json": {
       "model_id": "c17fef9252884c1abc8bc6604d94b221",
       "version_major": 2,
       "version_minor": 0
      },
      "text/plain": [
       "HBox(children=(IntProgress(value=0, max=1734), HTML(value='')))"
      ]
     },
     "metadata": {},
     "output_type": "display_data"
    },
    {
     "name": "stdout",
     "output_type": "stream",
     "text": [
      "\n"
     ]
    }
   ],
   "source": [
    "with open(\"parsed_video_info.json\", 'w+', encoding='utf-8') as output:\n",
    "    for video_file in tqdm.tqdm_notebook(sorted(glob.glob(\"./dados_brutos/video*\"))):\n",
    "        with open(video_file, 'r+', encoding='utf-8') as inp:\n",
    "            page_html = inp.read()\n",
    "            parsed = bs4.BeautifulSoup(page_html, 'html.parser')\n",
    "\n",
    "            class_watch = parsed.find_all(attrs={\"class\":re.compile(r\"watch\")})\n",
    "            id_watch = parsed.find_all(attrs={\"id\":re.compile(r\"watch\")})\n",
    "            channel = parsed.find_all(\"a\", attrs={\"href\":re.compile(r\"channel\")})\n",
    "            meta = parsed.find_all(\"meta\")\n",
    "\n",
    "\n",
    "            data = dict()\n",
    "\n",
    "            for e in class_watch:\n",
    "                colname = \"_\".join(e['class'])\n",
    "                if \"clearfix\" in colname:\n",
    "                    continue\n",
    "                data[colname] = e.text.strip()\n",
    "\n",
    "            for e in id_watch:\n",
    "                colname = e['id']\n",
    "                #if colname in output:\n",
    "                #    print(colname)\n",
    "                data[colname] = e.text.strip()\n",
    "\n",
    "            for e in meta:\n",
    "                colname = e.get('property')\n",
    "                if colname is not None:\n",
    "                    data[colname] = e['content']\n",
    "\n",
    "            for link_num, e in enumerate(channel):\n",
    "                data[\"channel_link_{}\".format(link_num)] = e['href']\n",
    "\n",
    "\n",
    "            output.write(\"{}\\n\".format(json.dumps(data)))"
   ]
  },
  {
   "cell_type": "code",
   "execution_count": 4,
   "metadata": {},
   "outputs": [
    {
     "data": {
      "text/plain": [
       "119"
      ]
     },
     "execution_count": 4,
     "metadata": {},
     "output_type": "execute_result"
    }
   ],
   "source": [
    "len(data)"
   ]
  },
  {
   "cell_type": "code",
   "execution_count": 31,
   "metadata": {},
   "outputs": [
    {
     "data": {
      "text/plain": [
       "(1864, 3)"
      ]
     },
     "execution_count": 31,
     "metadata": {},
     "output_type": "execute_result"
    }
   ],
   "source": [
    "df.shape"
   ]
  },
  {
   "cell_type": "code",
   "execution_count": 23,
   "metadata": {},
   "outputs": [
    {
     "data": {
      "text/plain": [
       "(1734, 173)"
      ]
     },
     "execution_count": 23,
     "metadata": {},
     "output_type": "execute_result"
    }
   ],
   "source": [
    "df = pd.read_json('parsed_video_info.json', lines=True)\n",
    "df.shape"
   ]
  },
  {
   "cell_type": "code",
   "execution_count": 24,
   "metadata": {},
   "outputs": [],
   "source": [
    "# in this case will be to see each column and analise which columns to chose what is the choices and create a filter\n",
    "# set_option is a function that limeted a horizontal view.\n",
    "pd.set_option('display.max_columns', 173)\n"
   ]
  },
  {
   "cell_type": "code",
   "execution_count": 26,
   "metadata": {},
   "outputs": [],
   "source": [
    "# After know each columns, toke note and created a list of a bagging important features\n",
    "data_select = ['watch-title', 'watch-view-count', 'watch-time-text', 'content_watch-info-tag-list', 'watch7-headline',\n",
    "                    'watch7-user-header', 'watch8-sentiment-actions', \"og:image\", 'og:image:width', 'og:image:height',\n",
    "                    \"og:description\", \"og:video:width\", 'og:video:height', \"og:video:tag\", 'channel_link_0']"
   ]
  },
  {
   "cell_type": "code",
   "execution_count": 28,
   "metadata": {},
   "outputs": [
    {
     "data": {
      "text/html": [
       "<div>\n",
       "<style scoped>\n",
       "    .dataframe tbody tr th:only-of-type {\n",
       "        vertical-align: middle;\n",
       "    }\n",
       "\n",
       "    .dataframe tbody tr th {\n",
       "        vertical-align: top;\n",
       "    }\n",
       "\n",
       "    .dataframe thead th {\n",
       "        text-align: right;\n",
       "    }\n",
       "</style>\n",
       "<table border=\"1\" class=\"dataframe\">\n",
       "  <thead>\n",
       "    <tr style=\"text-align: right;\">\n",
       "      <th></th>\n",
       "      <th>watch-title</th>\n",
       "      <th>watch-view-count</th>\n",
       "      <th>watch-time-text</th>\n",
       "      <th>content_watch-info-tag-list</th>\n",
       "      <th>watch7-headline</th>\n",
       "      <th>watch7-user-header</th>\n",
       "      <th>watch8-sentiment-actions</th>\n",
       "      <th>og:image</th>\n",
       "      <th>og:image:width</th>\n",
       "      <th>og:image:height</th>\n",
       "      <th>og:description</th>\n",
       "      <th>og:video:width</th>\n",
       "      <th>og:video:height</th>\n",
       "      <th>og:video:tag</th>\n",
       "      <th>channel_link_0</th>\n",
       "    </tr>\n",
       "  </thead>\n",
       "  <tbody>\n",
       "    <tr>\n",
       "      <th>0</th>\n",
       "      <td>Data Science &amp; Psychology as an approach in Us...</td>\n",
       "      <td>NaN</td>\n",
       "      <td>Publicado em 12 de fev. de 2020</td>\n",
       "      <td>Pessoas e blogs</td>\n",
       "      <td>Data Science &amp; Psychology as an approach in Us...</td>\n",
       "      <td>Humans of Analytics\\n\\n\\n\\n\\n\\n\\n\\n\\n\\n\\n\\n\\n\\...</td>\n",
       "      <td>NaN</td>\n",
       "      <td>https://i.ytimg.com/vi/--X0GVq5A3U/hqdefault.jpg</td>\n",
       "      <td>480.0</td>\n",
       "      <td>360.0</td>\n",
       "      <td>With the steaming conversations going around, ...</td>\n",
       "      <td>1280.0</td>\n",
       "      <td>720.0</td>\n",
       "      <td>#AnalyticsCommunity #HumansofAnalytics #DataSc...</td>\n",
       "      <td>/channel/UCgOkTQqzOWNxqFpXymQE7RA</td>\n",
       "    </tr>\n",
       "    <tr>\n",
       "      <th>1</th>\n",
       "      <td>Data Science Interview for a Job</td>\n",
       "      <td>565 visualizações</td>\n",
       "      <td>Publicado em 5 de nov. de 2019</td>\n",
       "      <td>Pessoas e blogs</td>\n",
       "      <td>#datascience #datascientist #interview\\n\\n\\n\\n...</td>\n",
       "      <td>Przemek Chojecki\\n\\n\\n\\n\\n\\n\\n\\n\\n\\n\\n\\n\\n\\nCa...</td>\n",
       "      <td>565 visualizações\\n\\n\\n\\n\\n\\n\\n\\n21\\n\\nGostou ...</td>\n",
       "      <td>https://i.ytimg.com/vi/-26pXGRGXeI/maxresdefau...</td>\n",
       "      <td>1280.0</td>\n",
       "      <td>720.0</td>\n",
       "      <td>How to conduct a Data Science Job Interview? H...</td>\n",
       "      <td>1280.0</td>\n",
       "      <td>720.0</td>\n",
       "      <td>get a job</td>\n",
       "      <td>/channel/UCEq0oQsS-voRnSWbcviIDGA</td>\n",
       "    </tr>\n",
       "  </tbody>\n",
       "</table>\n",
       "</div>"
      ],
      "text/plain": [
       "                                         watch-title   watch-view-count  \\\n",
       "0  Data Science & Psychology as an approach in Us...                NaN   \n",
       "1                   Data Science Interview for a Job  565 visualizações   \n",
       "\n",
       "                   watch-time-text content_watch-info-tag-list  \\\n",
       "0  Publicado em 12 de fev. de 2020             Pessoas e blogs   \n",
       "1   Publicado em 5 de nov. de 2019             Pessoas e blogs   \n",
       "\n",
       "                                     watch7-headline  \\\n",
       "0  Data Science & Psychology as an approach in Us...   \n",
       "1  #datascience #datascientist #interview\\n\\n\\n\\n...   \n",
       "\n",
       "                                  watch7-user-header  \\\n",
       "0  Humans of Analytics\\n\\n\\n\\n\\n\\n\\n\\n\\n\\n\\n\\n\\n\\...   \n",
       "1  Przemek Chojecki\\n\\n\\n\\n\\n\\n\\n\\n\\n\\n\\n\\n\\n\\nCa...   \n",
       "\n",
       "                            watch8-sentiment-actions  \\\n",
       "0                                                NaN   \n",
       "1  565 visualizações\\n\\n\\n\\n\\n\\n\\n\\n21\\n\\nGostou ...   \n",
       "\n",
       "                                            og:image  og:image:width  \\\n",
       "0   https://i.ytimg.com/vi/--X0GVq5A3U/hqdefault.jpg           480.0   \n",
       "1  https://i.ytimg.com/vi/-26pXGRGXeI/maxresdefau...          1280.0   \n",
       "\n",
       "   og:image:height                                     og:description  \\\n",
       "0            360.0  With the steaming conversations going around, ...   \n",
       "1            720.0  How to conduct a Data Science Job Interview? H...   \n",
       "\n",
       "   og:video:width  og:video:height  \\\n",
       "0          1280.0            720.0   \n",
       "1          1280.0            720.0   \n",
       "\n",
       "                                        og:video:tag  \\\n",
       "0  #AnalyticsCommunity #HumansofAnalytics #DataSc...   \n",
       "1                                          get a job   \n",
       "\n",
       "                      channel_link_0  \n",
       "0  /channel/UCgOkTQqzOWNxqFpXymQE7RA  \n",
       "1  /channel/UCEq0oQsS-voRnSWbcviIDGA  "
      ]
     },
     "execution_count": 28,
     "metadata": {},
     "output_type": "execute_result"
    }
   ],
   "source": [
    "df[data_select].head(2)"
   ]
  },
  {
   "cell_type": "code",
   "execution_count": 72,
   "metadata": {},
   "outputs": [],
   "source": [
    "df[data_select].to_feather('raw_data.feather')"
   ]
  },
  {
   "cell_type": "code",
   "execution_count": 31,
   "metadata": {},
   "outputs": [
    {
     "data": {
      "text/html": [
       "<div>\n",
       "<style scoped>\n",
       "    .dataframe tbody tr th:only-of-type {\n",
       "        vertical-align: middle;\n",
       "    }\n",
       "\n",
       "    .dataframe tbody tr th {\n",
       "        vertical-align: top;\n",
       "    }\n",
       "\n",
       "    .dataframe thead th {\n",
       "        text-align: right;\n",
       "    }\n",
       "</style>\n",
       "<table border=\"1\" class=\"dataframe\">\n",
       "  <thead>\n",
       "    <tr style=\"text-align: right;\">\n",
       "      <th></th>\n",
       "      <th>watch-title</th>\n",
       "      <th>watch-view-count</th>\n",
       "      <th>watch-time-text</th>\n",
       "      <th>content_watch-info-tag-list</th>\n",
       "      <th>watch7-headline</th>\n",
       "      <th>watch7-user-header</th>\n",
       "      <th>watch8-sentiment-actions</th>\n",
       "      <th>og:image</th>\n",
       "      <th>og:image:width</th>\n",
       "      <th>og:image:height</th>\n",
       "      <th>og:description</th>\n",
       "      <th>og:video:width</th>\n",
       "      <th>og:video:height</th>\n",
       "      <th>og:video:tag</th>\n",
       "      <th>channel_link_0</th>\n",
       "    </tr>\n",
       "  </thead>\n",
       "  <tbody>\n",
       "    <tr>\n",
       "      <th>0</th>\n",
       "      <td>Data Science &amp; Psychology as an approach in Us...</td>\n",
       "      <td>NaN</td>\n",
       "      <td>Publicado em 12 de fev. de 2020</td>\n",
       "      <td>Pessoas e blogs</td>\n",
       "      <td>Data Science &amp; Psychology as an approach in Us...</td>\n",
       "      <td>Humans of Analytics\\n\\n\\n\\n\\n\\n\\n\\n\\n\\n\\n\\n\\n\\...</td>\n",
       "      <td>NaN</td>\n",
       "      <td>https://i.ytimg.com/vi/--X0GVq5A3U/hqdefault.jpg</td>\n",
       "      <td>480.0</td>\n",
       "      <td>360.0</td>\n",
       "      <td>With the steaming conversations going around, ...</td>\n",
       "      <td>1280.0</td>\n",
       "      <td>720.0</td>\n",
       "      <td>#AnalyticsCommunity #HumansofAnalytics #DataSc...</td>\n",
       "      <td>/channel/UCgOkTQqzOWNxqFpXymQE7RA</td>\n",
       "    </tr>\n",
       "    <tr>\n",
       "      <th>1</th>\n",
       "      <td>Data Science Interview for a Job</td>\n",
       "      <td>565 visualizações</td>\n",
       "      <td>Publicado em 5 de nov. de 2019</td>\n",
       "      <td>Pessoas e blogs</td>\n",
       "      <td>#datascience #datascientist #interview\\n\\n\\n\\n...</td>\n",
       "      <td>Przemek Chojecki\\n\\n\\n\\n\\n\\n\\n\\n\\n\\n\\n\\n\\n\\nCa...</td>\n",
       "      <td>565 visualizações\\n\\n\\n\\n\\n\\n\\n\\n21\\n\\nGostou ...</td>\n",
       "      <td>https://i.ytimg.com/vi/-26pXGRGXeI/maxresdefau...</td>\n",
       "      <td>1280.0</td>\n",
       "      <td>720.0</td>\n",
       "      <td>How to conduct a Data Science Job Interview? H...</td>\n",
       "      <td>1280.0</td>\n",
       "      <td>720.0</td>\n",
       "      <td>get a job</td>\n",
       "      <td>/channel/UCEq0oQsS-voRnSWbcviIDGA</td>\n",
       "    </tr>\n",
       "  </tbody>\n",
       "</table>\n",
       "</div>"
      ],
      "text/plain": [
       "                                         watch-title   watch-view-count  \\\n",
       "0  Data Science & Psychology as an approach in Us...                NaN   \n",
       "1                   Data Science Interview for a Job  565 visualizações   \n",
       "\n",
       "                   watch-time-text content_watch-info-tag-list  \\\n",
       "0  Publicado em 12 de fev. de 2020             Pessoas e blogs   \n",
       "1   Publicado em 5 de nov. de 2019             Pessoas e blogs   \n",
       "\n",
       "                                     watch7-headline  \\\n",
       "0  Data Science & Psychology as an approach in Us...   \n",
       "1  #datascience #datascientist #interview\\n\\n\\n\\n...   \n",
       "\n",
       "                                  watch7-user-header  \\\n",
       "0  Humans of Analytics\\n\\n\\n\\n\\n\\n\\n\\n\\n\\n\\n\\n\\n\\...   \n",
       "1  Przemek Chojecki\\n\\n\\n\\n\\n\\n\\n\\n\\n\\n\\n\\n\\n\\nCa...   \n",
       "\n",
       "                            watch8-sentiment-actions  \\\n",
       "0                                                NaN   \n",
       "1  565 visualizações\\n\\n\\n\\n\\n\\n\\n\\n21\\n\\nGostou ...   \n",
       "\n",
       "                                            og:image  og:image:width  \\\n",
       "0   https://i.ytimg.com/vi/--X0GVq5A3U/hqdefault.jpg           480.0   \n",
       "1  https://i.ytimg.com/vi/-26pXGRGXeI/maxresdefau...          1280.0   \n",
       "\n",
       "   og:image:height                                     og:description  \\\n",
       "0            360.0  With the steaming conversations going around, ...   \n",
       "1            720.0  How to conduct a Data Science Job Interview? H...   \n",
       "\n",
       "   og:video:width  og:video:height  \\\n",
       "0          1280.0            720.0   \n",
       "1          1280.0            720.0   \n",
       "\n",
       "                                        og:video:tag  \\\n",
       "0  #AnalyticsCommunity #HumansofAnalytics #DataSc...   \n",
       "1                                          get a job   \n",
       "\n",
       "                      channel_link_0  \n",
       "0  /channel/UCgOkTQqzOWNxqFpXymQE7RA  \n",
       "1  /channel/UCEq0oQsS-voRnSWbcviIDGA  "
      ]
     },
     "execution_count": 31,
     "metadata": {},
     "output_type": "execute_result"
    }
   ],
   "source": [
    "df[data_select].head(2)"
   ]
  },
  {
   "cell_type": "code",
   "execution_count": 73,
   "metadata": {},
   "outputs": [],
   "source": [
    "df[data_select].to_csv('raw_data_without_labels.csv')"
   ]
  },
  {
   "cell_type": "code",
   "execution_count": 74,
   "metadata": {},
   "outputs": [],
   "source": [
    "df = pd.read_csv(\"raw_data_without_labels.csv\")"
   ]
  },
  {
   "cell_type": "code",
   "execution_count": 75,
   "metadata": {},
   "outputs": [],
   "source": [
    "# Create a list to be a labels, 0= deslike and 1= like\n",
    "list_labels = [0,0,0,1,0,1,1,1,1,0,0,1,1,0,0,1,0,0,0,1,0,1,1,0,0,0,0,0,0,0,1,0,0,0,0,0,0,0,0,0,1,1,0,1,0,1,0,1,1,0,0,\n",
    "              0,0,1,1,1,1,1,1,1,0,0,0,0,0,0,0,1,0,1,0,0,1,\n",
    "              0,0,0,0,0,1,1,1,1,0,0,0,0,0,1,0,0,0,0,0,0,\n",
    "              0,0,1,1,0,0,0,0,0,0,0,0,0,0,0,0,1,1,1,0,1,0,0,0,0,\n",
    "              1,0,0,0,1,0,0,0,0,0,0,1,0,0,0,0,0,0,0,1,0,0,0,0,\n",
    "              0,0,0,0,0,0,0,1,0,0,0,0,0,0,0,0,0,0,0,0,0,0,\n",
    "              0,0,0,0,0,0,0,0,0,0,0,0,0,0,0,0,0,0,]"
   ]
  },
  {
   "cell_type": "code",
   "execution_count": 80,
   "metadata": {},
   "outputs": [],
   "source": [
    "#Create a new column to be a labe 'y' with created list\n",
    "pd.set_option('display.max_rows', 500)\n",
    "df['y'] = pd.Series(list_labels)"
   ]
  },
  {
   "cell_type": "code",
   "execution_count": 83,
   "metadata": {},
   "outputs": [],
   "source": [
    "df.to_csv('raw_data_with_labels.csv')"
   ]
  },
  {
   "cell_type": "code",
   "execution_count": null,
   "metadata": {},
   "outputs": [],
   "source": []
  }
 ],
 "metadata": {
  "kernelspec": {
   "display_name": "Python 3",
   "language": "python",
   "name": "python3"
  },
  "language_info": {
   "codemirror_mode": {
    "name": "ipython",
    "version": 3
   },
   "file_extension": ".py",
   "mimetype": "text/x-python",
   "name": "python",
   "nbconvert_exporter": "python",
   "pygments_lexer": "ipython3",
   "version": "3.8.2"
  }
 },
 "nbformat": 4,
 "nbformat_minor": 4
}
