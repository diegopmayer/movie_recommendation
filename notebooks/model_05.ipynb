{
 "cells": [
  {
   "cell_type": "code",
   "execution_count": 287,
   "metadata": {},
   "outputs": [
    {
     "name": "stdout",
     "output_type": "stream",
     "text": [
      "Populating the interactive namespace from numpy and matplotlib\n"
     ]
    },
    {
     "name": "stderr",
     "output_type": "stream",
     "text": [
      "c:\\users\\diego.mayer\\documents\\developer\\projects\\movie_recommendation\\venv\\lib\\site-packages\\IPython\\core\\magics\\pylab.py:159: UserWarning: pylab import has clobbered these variables: ['vstack', 'hstack']\n",
      "`%matplotlib` prevents importing * from pylab and numpy\n",
      "  warn(\"pylab import has clobbered these variables: %s\"  % clobbered +\n"
     ]
    }
   ],
   "source": [
    "import pandas as pd\n",
    "import numpy as np\n",
    "import time\n",
    "\n",
    "pd.set_option('max.columns', 131)\n",
    "%matplotlib inline\n",
    "%pylab inline\n",
    "\n",
    "from sklearn.linear_model import LogisticRegression\n",
    "from sklearn.ensemble import RandomForestClassifier\n",
    "from lightgbm import LGBMClassifier\n",
    "from sklearn.linear_model import LogisticRegression\n",
    "\n",
    "from sklearn.feature_extraction.text import TfidfVectorizer\n",
    "from scipy.sparse import hstack, vstack\n",
    "from sklearn.preprocessing import MaxAbsScaler, StandardScaler\n",
    "from scipy.sparse import csr_matrix\n",
    "\n",
    "from sklearn.metrics import roc_auc_score, average_precision_score\n",
    "from skopt import forest_minimize\n",
    "\n",
    "from sklearn.pipeline import make_pipeline"
   ]
  },
  {
   "cell_type": "code",
   "execution_count": 168,
   "metadata": {},
   "outputs": [],
   "source": [
    "df = pd.read_csv('labels_curso - to_label_2.csv', index_col=0\n",
    "                ).dropna(subset=['y'])"
   ]
  },
  {
   "cell_type": "code",
   "execution_count": 169,
   "metadata": {},
   "outputs": [],
   "source": [
    "df_limpo = pd.DataFrame(index=df.index)\n",
    "df_limpo['title'] = df['watch-title']"
   ]
  },
  {
   "cell_type": "markdown",
   "metadata": {},
   "source": [
    "## 1. Limpeza da data"
   ]
  },
  {
   "cell_type": "code",
   "execution_count": 170,
   "metadata": {},
   "outputs": [],
   "source": [
    "clean_date = df['watch-time-text'].str.extract(r\"(\\d+) de ([a-z]+)\\. de (\\d+)\")\n",
    "clean_date[0] = clean_date[0].map(lambda x: \"0\"+x[0] if len(x) == 1 else x)\n",
    "#clean_date[1] = clean_date[1].map(lambda x: x[0].upper()+x[1:])\n",
    "\n",
    "mapa_meses = {\"jan\": \"Jan\",\n",
    "              \"fev\": \"Feb\",\n",
    "              \"mar\": \"Mar\", \n",
    "              \"abr\": \"Apr\", \n",
    "              \"mai\": \"May\", \n",
    "              \"jun\": \"Jun\",\n",
    "              \"jul\": \"Jul\",\n",
    "              \"ago\": \"Aug\", \n",
    "              \"set\": \"Sep\", \n",
    "              \"out\": \"Oct\", \n",
    "              \"nov\": \"Nov\",\n",
    "              \"dez\": \"Dec\"}\n",
    "\n",
    "clean_date[1] = clean_date[1].map(mapa_meses)\n",
    "\n",
    "clean_date = clean_date.apply(lambda x: \" \".join(x), axis=1)\n",
    "clean_date.head()\n",
    "df_limpo['date'] = pd.to_datetime(clean_date, format=\"%d %b %Y\")"
   ]
  },
  {
   "cell_type": "markdown",
   "metadata": {},
   "source": [
    "## 2. Limpeza de Views"
   ]
  },
  {
   "cell_type": "code",
   "execution_count": 171,
   "metadata": {},
   "outputs": [],
   "source": [
    "views = df['watch-view-count'].str.extract(r\"(\\d+\\.?\\d*)\", expand=False).str.replace(\".\", \"\").fillna(0).astype(int)\n",
    "df_limpo['views'] = views"
   ]
  },
  {
   "cell_type": "markdown",
   "metadata": {},
   "source": [
    "## 3. Features"
   ]
  },
  {
   "cell_type": "code",
   "execution_count": 172,
   "metadata": {},
   "outputs": [],
   "source": [
    "features = pd.DataFrame(index=df_limpo.index)\n",
    "y = df['y'].copy()"
   ]
  },
  {
   "cell_type": "code",
   "execution_count": 173,
   "metadata": {},
   "outputs": [],
   "source": [
    "features['tempo_desde_pub'] = (pd.to_datetime(\"2019-12-03\") - df_limpo['date']) / np.timedelta64(1, 'D')\n",
    "features['views'] = df_limpo['views']\n",
    "features['views_por_dia'] = features['views'] / features['tempo_desde_pub']\n",
    "features = features.drop(['tempo_desde_pub'], axis=1)"
   ]
  },
  {
   "cell_type": "code",
   "execution_count": 174,
   "metadata": {},
   "outputs": [
    {
     "data": {
      "text/plain": [
       "((555, 2), (609, 2), (555,), (609,))"
      ]
     },
     "execution_count": 174,
     "metadata": {},
     "output_type": "execute_result"
    }
   ],
   "source": [
    "mask_train = df_limpo['date'] < \"2019-04-01\"\n",
    "mask_val = (df_limpo['date'] >= \"2019-04-01\")\n",
    "\n",
    "Xtrain, Xval = features[mask_train], features[mask_val]\n",
    "ytrain, yval = y[mask_train], y[mask_val]\n",
    "Xtrain.shape, Xval.shape, ytrain.shape, yval.shape"
   ]
  },
  {
   "cell_type": "code",
   "execution_count": 175,
   "metadata": {},
   "outputs": [],
   "source": [
    "title_train = df_limpo[mask_train]['title']\n",
    "title_val = df_limpo[mask_val]['title']"
   ]
  },
  {
   "cell_type": "markdown",
   "metadata": {},
   "source": [
    "## Vectorizer"
   ]
  },
  {
   "cell_type": "code",
   "execution_count": 176,
   "metadata": {},
   "outputs": [],
   "source": [
    "title_vec = TfidfVectorizer(min_df=2, ngram_range=(1,3))"
   ]
  },
  {
   "cell_type": "code",
   "execution_count": 177,
   "metadata": {},
   "outputs": [],
   "source": [
    "title_bow_train = title_vec.fit_transform(title_train)\n",
    "title_bow_val = title_vec.transform(title_val)"
   ]
  },
  {
   "cell_type": "code",
   "execution_count": 178,
   "metadata": {},
   "outputs": [
    {
     "data": {
      "text/plain": [
       "(555, 1144)"
      ]
     },
     "execution_count": 178,
     "metadata": {},
     "output_type": "execute_result"
    }
   ],
   "source": [
    "title_bow_train.shape"
   ]
  },
  {
   "cell_type": "markdown",
   "metadata": {},
   "source": [
    "### Hstack"
   ]
  },
  {
   "cell_type": "code",
   "execution_count": 179,
   "metadata": {},
   "outputs": [],
   "source": [
    "Xtrain_wtitle = hstack([Xtrain, title_bow_train])\n",
    "Xval_wtitle = hstack([Xval, title_bow_val])"
   ]
  },
  {
   "cell_type": "code",
   "execution_count": 180,
   "metadata": {},
   "outputs": [
    {
     "data": {
      "text/plain": [
       "(555, 1146)"
      ]
     },
     "execution_count": 180,
     "metadata": {},
     "output_type": "execute_result"
    }
   ],
   "source": [
    "Xtrain_wtitle.shape # included two more columns"
   ]
  },
  {
   "cell_type": "markdown",
   "metadata": {},
   "source": [
    "# Random Forest"
   ]
  },
  {
   "cell_type": "code",
   "execution_count": 283,
   "metadata": {},
   "outputs": [
    {
     "data": {
      "text/plain": [
       "(0.2284201947891743, 0.6926785398360559)"
      ]
     },
     "execution_count": 283,
     "metadata": {},
     "output_type": "execute_result"
    }
   ],
   "source": [
    "mdl_rf = RandomForestClassifier(n_estimators=1000, random_state=0, min_samples_leaf=1, class_weight=\"balanced\", n_jobs=6)\n",
    "mdl_rf.fit(Xtrain_wtitle, ytrain)\n",
    "\n",
    "p_rf = mdl_rf.predict_proba(Xval_wtitle)[:,1]\n",
    "\n",
    "average_precision_score(yval, p_rf), roc_auc_score(yval, p_rf)"
   ]
  },
  {
   "cell_type": "markdown",
   "metadata": {},
   "source": [
    "# LGBM"
   ]
  },
  {
   "cell_type": "code",
   "execution_count": 190,
   "metadata": {},
   "outputs": [
    {
     "name": "stderr",
     "output_type": "stream",
     "text": [
      "c:\\users\\diego.mayer\\documents\\developer\\projects\\movie_recommendation\\venv\\lib\\site-packages\\lightgbm\\basic.py:546: UserWarning: Converting data to scipy sparse matrix.\n",
      "  warnings.warn('Converting data to scipy sparse matrix.')\n"
     ]
    },
    {
     "data": {
      "text/plain": [
       "(0.17930936519845178, 0.6177389868490889)"
      ]
     },
     "execution_count": 190,
     "metadata": {},
     "output_type": "execute_result"
    }
   ],
   "source": [
    "mdl = LGBMClassifier(random_state=0, class_weight=\"balanced\", n_jobs=6)\n",
    "mdl.fit(Xtrain_wtitle, ytrain)\n",
    "\n",
    "p_lg = mdl.predict_proba(Xval_wtitle)[:, 1]\n",
    "\n",
    "average_precision_score(yval, p_lg), roc_auc_score(yval, p_lg)"
   ]
  },
  {
   "cell_type": "markdown",
   "metadata": {},
   "source": [
    "# Bayesian Optimazation\n",
    "    LGBM"
   ]
  },
  {
   "cell_type": "code",
   "execution_count": 279,
   "metadata": {},
   "outputs": [],
   "source": [
    "def tune_lgbm(params, tune=True):\n",
    "    \n",
    "    # Parameters\n",
    "    lr = params[0]\n",
    "    max_depth = params[1]\n",
    "    min_child_samples = params[2]\n",
    "    subsample = params[3]\n",
    "    colsample_bytree = params[4]\n",
    "    n_estimators = params[5]\n",
    "    min_df = params[6]\n",
    "    ngram_range = params[7]\n",
    "    \n",
    "    # Vectorization\n",
    "    title_vec = TfidfVectorizer(min_df=min_df, ngram_range=(1, params[7]))\n",
    "    title_bow_train = title_vec.fit_transform(title_train)\n",
    "    title_bow_val = title_vec.transform(title_val)\n",
    "    \n",
    "    # hstack to concat\n",
    "    Xtrain_wtitle = hstack([Xtrain, title_bow_train])\n",
    "    Xval_wtitle = hstack([Xval, title_bow_val])\n",
    "    \n",
    "    # Model\n",
    "    mdl = LGBMClassifier(learning_rate=lr, num_leaves=2, max_depth=max_depth, \n",
    "                        min_child_samples=min_child_samples, subsample=subsample,\n",
    "                        colsample_bytree=colsample_bytree, bagging_freq=1, \n",
    "                        n_estimators=n_estimators, random_state=0,\n",
    "                        class_weight='balanced', n_jobs=6)\n",
    "    mdl.fit(Xtrain_wtitle, ytrain)\n",
    "    \n",
    "    # Probability prediction\n",
    "    p_lgbm = mdl.predict_proba(Xval_wtitle)[:, 1]\n",
    "    \n",
    "    # if tune is True than execute for tunning else, it's validation or production\n",
    "    if tune: \n",
    "        return -average_precision_score(yval, p_lgbm)\n",
    "    else:\n",
    "        print(average_precision_score(yval, p_lgbm), roc_auc_score(yval, p_lgbm)) \n",
    "        return p_lgbm, mdl, title_vec"
   ]
  },
  {
   "cell_type": "markdown",
   "metadata": {},
   "source": [
    "## Space and Minimize for Logistic Regression"
   ]
  },
  {
   "cell_type": "code",
   "execution_count": 184,
   "metadata": {
    "collapsed": true,
    "jupyter": {
     "outputs_hidden": true
    }
   },
   "outputs": [
    {
     "name": "stdout",
     "output_type": "stream",
     "text": [
      "Iteration No: 1 started. Evaluating function at random point.\n",
      "Iteration No: 1 ended. Evaluation done at random point.\n",
      "Time taken: 0.1232\n",
      "Function value obtained: -0.1185\n",
      "Current minimum: -0.1185\n",
      "Iteration No: 2 started. Evaluating function at random point.\n"
     ]
    },
    {
     "name": "stderr",
     "output_type": "stream",
     "text": [
      "c:\\users\\diego.mayer\\documents\\developer\\projects\\movie_recommendation\\venv\\lib\\site-packages\\lightgbm\\basic.py:546: UserWarning: Converting data to scipy sparse matrix.\n",
      "  warnings.warn('Converting data to scipy sparse matrix.')\n",
      "c:\\users\\diego.mayer\\documents\\developer\\projects\\movie_recommendation\\venv\\lib\\site-packages\\lightgbm\\basic.py:546: UserWarning: Converting data to scipy sparse matrix.\n",
      "  warnings.warn('Converting data to scipy sparse matrix.')\n"
     ]
    },
    {
     "name": "stdout",
     "output_type": "stream",
     "text": [
      "Iteration No: 2 ended. Evaluation done at random point.\n",
      "Time taken: 0.2740\n",
      "Function value obtained: -0.1203\n",
      "Current minimum: -0.1203\n",
      "Iteration No: 3 started. Evaluating function at random point.\n"
     ]
    },
    {
     "name": "stderr",
     "output_type": "stream",
     "text": [
      "c:\\users\\diego.mayer\\documents\\developer\\projects\\movie_recommendation\\venv\\lib\\site-packages\\lightgbm\\basic.py:546: UserWarning: Converting data to scipy sparse matrix.\n",
      "  warnings.warn('Converting data to scipy sparse matrix.')\n"
     ]
    },
    {
     "name": "stdout",
     "output_type": "stream",
     "text": [
      "Iteration No: 3 ended. Evaluation done at random point.\n",
      "Time taken: 0.2065\n",
      "Function value obtained: -0.1175\n",
      "Current minimum: -0.1203\n",
      "Iteration No: 4 started. Evaluating function at random point.\n"
     ]
    },
    {
     "name": "stderr",
     "output_type": "stream",
     "text": [
      "c:\\users\\diego.mayer\\documents\\developer\\projects\\movie_recommendation\\venv\\lib\\site-packages\\lightgbm\\basic.py:546: UserWarning: Converting data to scipy sparse matrix.\n",
      "  warnings.warn('Converting data to scipy sparse matrix.')\n"
     ]
    },
    {
     "name": "stdout",
     "output_type": "stream",
     "text": [
      "Iteration No: 4 ended. Evaluation done at random point.\n",
      "Time taken: 0.2826\n",
      "Function value obtained: -0.1222\n",
      "Current minimum: -0.1222\n",
      "Iteration No: 5 started. Evaluating function at random point.\n"
     ]
    },
    {
     "name": "stderr",
     "output_type": "stream",
     "text": [
      "c:\\users\\diego.mayer\\documents\\developer\\projects\\movie_recommendation\\venv\\lib\\site-packages\\lightgbm\\basic.py:546: UserWarning: Converting data to scipy sparse matrix.\n",
      "  warnings.warn('Converting data to scipy sparse matrix.')\n"
     ]
    },
    {
     "name": "stdout",
     "output_type": "stream",
     "text": [
      "Iteration No: 5 ended. Evaluation done at random point.\n",
      "Time taken: 0.2335\n",
      "Function value obtained: -0.1030\n",
      "Current minimum: -0.1222\n",
      "Iteration No: 6 started. Evaluating function at random point.\n"
     ]
    },
    {
     "name": "stderr",
     "output_type": "stream",
     "text": [
      "c:\\users\\diego.mayer\\documents\\developer\\projects\\movie_recommendation\\venv\\lib\\site-packages\\lightgbm\\basic.py:546: UserWarning: Converting data to scipy sparse matrix.\n",
      "  warnings.warn('Converting data to scipy sparse matrix.')\n"
     ]
    },
    {
     "name": "stdout",
     "output_type": "stream",
     "text": [
      "Iteration No: 6 ended. Evaluation done at random point.\n",
      "Time taken: 0.3339\n",
      "Function value obtained: -0.1218\n",
      "Current minimum: -0.1222\n",
      "Iteration No: 7 started. Evaluating function at random point.\n"
     ]
    },
    {
     "name": "stderr",
     "output_type": "stream",
     "text": [
      "c:\\users\\diego.mayer\\documents\\developer\\projects\\movie_recommendation\\venv\\lib\\site-packages\\lightgbm\\basic.py:546: UserWarning: Converting data to scipy sparse matrix.\n",
      "  warnings.warn('Converting data to scipy sparse matrix.')\n",
      "c:\\users\\diego.mayer\\documents\\developer\\projects\\movie_recommendation\\venv\\lib\\site-packages\\lightgbm\\basic.py:546: UserWarning: Converting data to scipy sparse matrix.\n",
      "  warnings.warn('Converting data to scipy sparse matrix.')\n"
     ]
    },
    {
     "name": "stdout",
     "output_type": "stream",
     "text": [
      "Iteration No: 7 ended. Evaluation done at random point.\n",
      "Time taken: 0.3059\n",
      "Function value obtained: -0.1413\n",
      "Current minimum: -0.1413\n",
      "Iteration No: 8 started. Evaluating function at random point.\n",
      "Iteration No: 8 ended. Evaluation done at random point.\n",
      "Time taken: 0.1863\n",
      "Function value obtained: -0.1094\n",
      "Current minimum: -0.1413\n",
      "Iteration No: 9 started. Evaluating function at random point.\n"
     ]
    },
    {
     "name": "stderr",
     "output_type": "stream",
     "text": [
      "c:\\users\\diego.mayer\\documents\\developer\\projects\\movie_recommendation\\venv\\lib\\site-packages\\lightgbm\\basic.py:546: UserWarning: Converting data to scipy sparse matrix.\n",
      "  warnings.warn('Converting data to scipy sparse matrix.')\n"
     ]
    },
    {
     "name": "stdout",
     "output_type": "stream",
     "text": [
      "Iteration No: 9 ended. Evaluation done at random point.\n",
      "Time taken: 0.3631\n",
      "Function value obtained: -0.1261\n",
      "Current minimum: -0.1413\n",
      "Iteration No: 10 started. Evaluating function at random point.\n"
     ]
    },
    {
     "name": "stderr",
     "output_type": "stream",
     "text": [
      "c:\\users\\diego.mayer\\documents\\developer\\projects\\movie_recommendation\\venv\\lib\\site-packages\\lightgbm\\basic.py:546: UserWarning: Converting data to scipy sparse matrix.\n",
      "  warnings.warn('Converting data to scipy sparse matrix.')\n"
     ]
    },
    {
     "name": "stdout",
     "output_type": "stream",
     "text": [
      "Iteration No: 10 ended. Evaluation done at random point.\n",
      "Time taken: 0.3444\n",
      "Function value obtained: -0.1155\n",
      "Current minimum: -0.1413\n",
      "Iteration No: 11 started. Evaluating function at random point.\n"
     ]
    },
    {
     "name": "stderr",
     "output_type": "stream",
     "text": [
      "c:\\users\\diego.mayer\\documents\\developer\\projects\\movie_recommendation\\venv\\lib\\site-packages\\lightgbm\\basic.py:546: UserWarning: Converting data to scipy sparse matrix.\n",
      "  warnings.warn('Converting data to scipy sparse matrix.')\n",
      "c:\\users\\diego.mayer\\documents\\developer\\projects\\movie_recommendation\\venv\\lib\\site-packages\\lightgbm\\basic.py:546: UserWarning: Converting data to scipy sparse matrix.\n",
      "  warnings.warn('Converting data to scipy sparse matrix.')\n"
     ]
    },
    {
     "name": "stdout",
     "output_type": "stream",
     "text": [
      "Iteration No: 11 ended. Evaluation done at random point.\n",
      "Time taken: 0.2563\n",
      "Function value obtained: -0.1344\n",
      "Current minimum: -0.1413\n",
      "Iteration No: 12 started. Evaluating function at random point.\n",
      "Iteration No: 12 ended. Evaluation done at random point.\n",
      "Time taken: 0.1626\n",
      "Function value obtained: -0.1273\n",
      "Current minimum: -0.1413\n",
      "Iteration No: 13 started. Evaluating function at random point.\n"
     ]
    },
    {
     "name": "stderr",
     "output_type": "stream",
     "text": [
      "c:\\users\\diego.mayer\\documents\\developer\\projects\\movie_recommendation\\venv\\lib\\site-packages\\lightgbm\\basic.py:546: UserWarning: Converting data to scipy sparse matrix.\n",
      "  warnings.warn('Converting data to scipy sparse matrix.')\n",
      "c:\\users\\diego.mayer\\documents\\developer\\projects\\movie_recommendation\\venv\\lib\\site-packages\\lightgbm\\basic.py:546: UserWarning: Converting data to scipy sparse matrix.\n",
      "  warnings.warn('Converting data to scipy sparse matrix.')\n"
     ]
    },
    {
     "name": "stdout",
     "output_type": "stream",
     "text": [
      "Iteration No: 13 ended. Evaluation done at random point.\n",
      "Time taken: 0.2015\n",
      "Function value obtained: -0.1270\n",
      "Current minimum: -0.1413\n",
      "Iteration No: 14 started. Evaluating function at random point.\n",
      "Iteration No: 14 ended. Evaluation done at random point.\n",
      "Time taken: 0.1277\n",
      "Function value obtained: -0.1170\n",
      "Current minimum: -0.1413\n",
      "Iteration No: 15 started. Evaluating function at random point.\n"
     ]
    },
    {
     "name": "stderr",
     "output_type": "stream",
     "text": [
      "c:\\users\\diego.mayer\\documents\\developer\\projects\\movie_recommendation\\venv\\lib\\site-packages\\lightgbm\\basic.py:546: UserWarning: Converting data to scipy sparse matrix.\n",
      "  warnings.warn('Converting data to scipy sparse matrix.')\n",
      "c:\\users\\diego.mayer\\documents\\developer\\projects\\movie_recommendation\\venv\\lib\\site-packages\\lightgbm\\basic.py:546: UserWarning: Converting data to scipy sparse matrix.\n",
      "  warnings.warn('Converting data to scipy sparse matrix.')\n"
     ]
    },
    {
     "name": "stdout",
     "output_type": "stream",
     "text": [
      "Iteration No: 15 ended. Evaluation done at random point.\n",
      "Time taken: 0.2374\n",
      "Function value obtained: -0.1327\n",
      "Current minimum: -0.1413\n",
      "Iteration No: 16 started. Evaluating function at random point.\n",
      "Iteration No: 16 ended. Evaluation done at random point.\n",
      "Time taken: 0.0858\n",
      "Function value obtained: -0.1192\n",
      "Current minimum: -0.1413\n",
      "Iteration No: 17 started. Evaluating function at random point.\n"
     ]
    },
    {
     "name": "stderr",
     "output_type": "stream",
     "text": [
      "c:\\users\\diego.mayer\\documents\\developer\\projects\\movie_recommendation\\venv\\lib\\site-packages\\lightgbm\\basic.py:546: UserWarning: Converting data to scipy sparse matrix.\n",
      "  warnings.warn('Converting data to scipy sparse matrix.')\n"
     ]
    },
    {
     "name": "stdout",
     "output_type": "stream",
     "text": [
      "Iteration No: 17 ended. Evaluation done at random point.\n",
      "Time taken: 0.1795\n",
      "Function value obtained: -0.1140\n",
      "Current minimum: -0.1413\n",
      "Iteration No: 18 started. Evaluating function at random point.\n"
     ]
    },
    {
     "name": "stderr",
     "output_type": "stream",
     "text": [
      "c:\\users\\diego.mayer\\documents\\developer\\projects\\movie_recommendation\\venv\\lib\\site-packages\\lightgbm\\basic.py:546: UserWarning: Converting data to scipy sparse matrix.\n",
      "  warnings.warn('Converting data to scipy sparse matrix.')\n"
     ]
    },
    {
     "name": "stdout",
     "output_type": "stream",
     "text": [
      "Iteration No: 18 ended. Evaluation done at random point.\n",
      "Time taken: 0.1985\n",
      "Function value obtained: -0.1073\n",
      "Current minimum: -0.1413\n",
      "Iteration No: 19 started. Evaluating function at random point.\n"
     ]
    },
    {
     "name": "stderr",
     "output_type": "stream",
     "text": [
      "c:\\users\\diego.mayer\\documents\\developer\\projects\\movie_recommendation\\venv\\lib\\site-packages\\lightgbm\\basic.py:546: UserWarning: Converting data to scipy sparse matrix.\n",
      "  warnings.warn('Converting data to scipy sparse matrix.')\n"
     ]
    },
    {
     "name": "stdout",
     "output_type": "stream",
     "text": [
      "Iteration No: 19 ended. Evaluation done at random point.\n",
      "Time taken: 0.2577\n",
      "Function value obtained: -0.1415\n",
      "Current minimum: -0.1415\n",
      "Iteration No: 20 started. Evaluating function at random point.\n"
     ]
    },
    {
     "name": "stderr",
     "output_type": "stream",
     "text": [
      "c:\\users\\diego.mayer\\documents\\developer\\projects\\movie_recommendation\\venv\\lib\\site-packages\\lightgbm\\basic.py:546: UserWarning: Converting data to scipy sparse matrix.\n",
      "  warnings.warn('Converting data to scipy sparse matrix.')\n"
     ]
    },
    {
     "name": "stdout",
     "output_type": "stream",
     "text": [
      "Iteration No: 20 ended. Evaluation done at random point.\n",
      "Time taken: 0.6269\n",
      "Function value obtained: -0.1111\n",
      "Current minimum: -0.1415\n",
      "Iteration No: 21 started. Searching for the next optimal point.\n"
     ]
    },
    {
     "name": "stderr",
     "output_type": "stream",
     "text": [
      "c:\\users\\diego.mayer\\documents\\developer\\projects\\movie_recommendation\\venv\\lib\\site-packages\\lightgbm\\basic.py:546: UserWarning: Converting data to scipy sparse matrix.\n",
      "  warnings.warn('Converting data to scipy sparse matrix.')\n"
     ]
    },
    {
     "name": "stdout",
     "output_type": "stream",
     "text": [
      "Iteration No: 21 ended. Search finished for the next optimal point.\n",
      "Time taken: 0.4685\n",
      "Function value obtained: -0.1151\n",
      "Current minimum: -0.1415\n",
      "Iteration No: 22 started. Searching for the next optimal point.\n"
     ]
    },
    {
     "name": "stderr",
     "output_type": "stream",
     "text": [
      "c:\\users\\diego.mayer\\documents\\developer\\projects\\movie_recommendation\\venv\\lib\\site-packages\\lightgbm\\basic.py:546: UserWarning: Converting data to scipy sparse matrix.\n",
      "  warnings.warn('Converting data to scipy sparse matrix.')\n"
     ]
    },
    {
     "name": "stdout",
     "output_type": "stream",
     "text": [
      "Iteration No: 22 ended. Search finished for the next optimal point.\n",
      "Time taken: 0.5425\n",
      "Function value obtained: -0.1342\n",
      "Current minimum: -0.1415\n",
      "Iteration No: 23 started. Searching for the next optimal point.\n"
     ]
    },
    {
     "name": "stderr",
     "output_type": "stream",
     "text": [
      "c:\\users\\diego.mayer\\documents\\developer\\projects\\movie_recommendation\\venv\\lib\\site-packages\\lightgbm\\basic.py:546: UserWarning: Converting data to scipy sparse matrix.\n",
      "  warnings.warn('Converting data to scipy sparse matrix.')\n"
     ]
    },
    {
     "name": "stdout",
     "output_type": "stream",
     "text": [
      "Iteration No: 23 ended. Search finished for the next optimal point.\n",
      "Time taken: 0.6579\n",
      "Function value obtained: -0.1165\n",
      "Current minimum: -0.1415\n",
      "Iteration No: 24 started. Searching for the next optimal point.\n"
     ]
    },
    {
     "name": "stderr",
     "output_type": "stream",
     "text": [
      "c:\\users\\diego.mayer\\documents\\developer\\projects\\movie_recommendation\\venv\\lib\\site-packages\\lightgbm\\basic.py:546: UserWarning: Converting data to scipy sparse matrix.\n",
      "  warnings.warn('Converting data to scipy sparse matrix.')\n"
     ]
    },
    {
     "name": "stdout",
     "output_type": "stream",
     "text": [
      "Iteration No: 24 ended. Search finished for the next optimal point.\n",
      "Time taken: 0.4279\n",
      "Function value obtained: -0.1124\n",
      "Current minimum: -0.1415\n",
      "Iteration No: 25 started. Searching for the next optimal point.\n"
     ]
    },
    {
     "name": "stderr",
     "output_type": "stream",
     "text": [
      "c:\\users\\diego.mayer\\documents\\developer\\projects\\movie_recommendation\\venv\\lib\\site-packages\\lightgbm\\basic.py:546: UserWarning: Converting data to scipy sparse matrix.\n",
      "  warnings.warn('Converting data to scipy sparse matrix.')\n"
     ]
    },
    {
     "name": "stdout",
     "output_type": "stream",
     "text": [
      "Iteration No: 25 ended. Search finished for the next optimal point.\n",
      "Time taken: 0.4129\n",
      "Function value obtained: -0.1427\n",
      "Current minimum: -0.1427\n",
      "Iteration No: 26 started. Searching for the next optimal point.\n"
     ]
    },
    {
     "name": "stderr",
     "output_type": "stream",
     "text": [
      "c:\\users\\diego.mayer\\documents\\developer\\projects\\movie_recommendation\\venv\\lib\\site-packages\\lightgbm\\basic.py:546: UserWarning: Converting data to scipy sparse matrix.\n",
      "  warnings.warn('Converting data to scipy sparse matrix.')\n"
     ]
    },
    {
     "name": "stdout",
     "output_type": "stream",
     "text": [
      "Iteration No: 26 ended. Search finished for the next optimal point.\n",
      "Time taken: 0.3937\n",
      "Function value obtained: -0.1123\n",
      "Current minimum: -0.1427\n",
      "Iteration No: 27 started. Searching for the next optimal point.\n"
     ]
    },
    {
     "name": "stderr",
     "output_type": "stream",
     "text": [
      "c:\\users\\diego.mayer\\documents\\developer\\projects\\movie_recommendation\\venv\\lib\\site-packages\\lightgbm\\basic.py:546: UserWarning: Converting data to scipy sparse matrix.\n",
      "  warnings.warn('Converting data to scipy sparse matrix.')\n"
     ]
    },
    {
     "name": "stdout",
     "output_type": "stream",
     "text": [
      "Iteration No: 27 ended. Search finished for the next optimal point.\n",
      "Time taken: 0.4424\n",
      "Function value obtained: -0.1545\n",
      "Current minimum: -0.1545\n",
      "Iteration No: 28 started. Searching for the next optimal point.\n"
     ]
    },
    {
     "name": "stderr",
     "output_type": "stream",
     "text": [
      "c:\\users\\diego.mayer\\documents\\developer\\projects\\movie_recommendation\\venv\\lib\\site-packages\\lightgbm\\basic.py:546: UserWarning: Converting data to scipy sparse matrix.\n",
      "  warnings.warn('Converting data to scipy sparse matrix.')\n"
     ]
    },
    {
     "name": "stdout",
     "output_type": "stream",
     "text": [
      "Iteration No: 28 ended. Search finished for the next optimal point.\n",
      "Time taken: 0.4329\n",
      "Function value obtained: -0.1528\n",
      "Current minimum: -0.1545\n",
      "Iteration No: 29 started. Searching for the next optimal point.\n"
     ]
    },
    {
     "name": "stderr",
     "output_type": "stream",
     "text": [
      "c:\\users\\diego.mayer\\documents\\developer\\projects\\movie_recommendation\\venv\\lib\\site-packages\\lightgbm\\basic.py:546: UserWarning: Converting data to scipy sparse matrix.\n",
      "  warnings.warn('Converting data to scipy sparse matrix.')\n"
     ]
    },
    {
     "name": "stdout",
     "output_type": "stream",
     "text": [
      "Iteration No: 29 ended. Search finished for the next optimal point.\n",
      "Time taken: 0.4219\n",
      "Function value obtained: -0.1202\n",
      "Current minimum: -0.1545\n",
      "Iteration No: 30 started. Searching for the next optimal point.\n"
     ]
    },
    {
     "name": "stderr",
     "output_type": "stream",
     "text": [
      "c:\\users\\diego.mayer\\documents\\developer\\projects\\movie_recommendation\\venv\\lib\\site-packages\\lightgbm\\basic.py:546: UserWarning: Converting data to scipy sparse matrix.\n",
      "  warnings.warn('Converting data to scipy sparse matrix.')\n"
     ]
    },
    {
     "name": "stdout",
     "output_type": "stream",
     "text": [
      "Iteration No: 30 ended. Search finished for the next optimal point.\n",
      "Time taken: 0.5408\n",
      "Function value obtained: -0.1194\n",
      "Current minimum: -0.1545\n",
      "Iteration No: 31 started. Searching for the next optimal point.\n"
     ]
    },
    {
     "name": "stderr",
     "output_type": "stream",
     "text": [
      "c:\\users\\diego.mayer\\documents\\developer\\projects\\movie_recommendation\\venv\\lib\\site-packages\\lightgbm\\basic.py:546: UserWarning: Converting data to scipy sparse matrix.\n",
      "  warnings.warn('Converting data to scipy sparse matrix.')\n"
     ]
    },
    {
     "name": "stdout",
     "output_type": "stream",
     "text": [
      "Iteration No: 31 ended. Search finished for the next optimal point.\n",
      "Time taken: 0.4170\n",
      "Function value obtained: -0.1491\n",
      "Current minimum: -0.1545\n",
      "Iteration No: 32 started. Searching for the next optimal point.\n"
     ]
    },
    {
     "name": "stderr",
     "output_type": "stream",
     "text": [
      "c:\\users\\diego.mayer\\documents\\developer\\projects\\movie_recommendation\\venv\\lib\\site-packages\\lightgbm\\basic.py:546: UserWarning: Converting data to scipy sparse matrix.\n",
      "  warnings.warn('Converting data to scipy sparse matrix.')\n"
     ]
    },
    {
     "name": "stdout",
     "output_type": "stream",
     "text": [
      "Iteration No: 32 ended. Search finished for the next optimal point.\n",
      "Time taken: 0.4494\n",
      "Function value obtained: -0.1312\n",
      "Current minimum: -0.1545\n",
      "Iteration No: 33 started. Searching for the next optimal point.\n"
     ]
    },
    {
     "name": "stderr",
     "output_type": "stream",
     "text": [
      "c:\\users\\diego.mayer\\documents\\developer\\projects\\movie_recommendation\\venv\\lib\\site-packages\\lightgbm\\basic.py:546: UserWarning: Converting data to scipy sparse matrix.\n",
      "  warnings.warn('Converting data to scipy sparse matrix.')\n"
     ]
    },
    {
     "name": "stdout",
     "output_type": "stream",
     "text": [
      "Iteration No: 33 ended. Search finished for the next optimal point.\n",
      "Time taken: 0.4423\n",
      "Function value obtained: -0.1338\n",
      "Current minimum: -0.1545\n",
      "Iteration No: 34 started. Searching for the next optimal point.\n"
     ]
    },
    {
     "name": "stderr",
     "output_type": "stream",
     "text": [
      "c:\\users\\diego.mayer\\documents\\developer\\projects\\movie_recommendation\\venv\\lib\\site-packages\\lightgbm\\basic.py:546: UserWarning: Converting data to scipy sparse matrix.\n",
      "  warnings.warn('Converting data to scipy sparse matrix.')\n"
     ]
    },
    {
     "name": "stdout",
     "output_type": "stream",
     "text": [
      "Iteration No: 34 ended. Search finished for the next optimal point.\n",
      "Time taken: 0.4329\n",
      "Function value obtained: -0.1107\n",
      "Current minimum: -0.1545\n",
      "Iteration No: 35 started. Searching for the next optimal point.\n"
     ]
    },
    {
     "name": "stderr",
     "output_type": "stream",
     "text": [
      "c:\\users\\diego.mayer\\documents\\developer\\projects\\movie_recommendation\\venv\\lib\\site-packages\\lightgbm\\basic.py:546: UserWarning: Converting data to scipy sparse matrix.\n",
      "  warnings.warn('Converting data to scipy sparse matrix.')\n"
     ]
    },
    {
     "name": "stdout",
     "output_type": "stream",
     "text": [
      "Iteration No: 35 ended. Search finished for the next optimal point.\n",
      "Time taken: 0.4312\n",
      "Function value obtained: -0.1192\n",
      "Current minimum: -0.1545\n",
      "Iteration No: 36 started. Searching for the next optimal point.\n"
     ]
    },
    {
     "name": "stderr",
     "output_type": "stream",
     "text": [
      "c:\\users\\diego.mayer\\documents\\developer\\projects\\movie_recommendation\\venv\\lib\\site-packages\\lightgbm\\basic.py:546: UserWarning: Converting data to scipy sparse matrix.\n",
      "  warnings.warn('Converting data to scipy sparse matrix.')\n"
     ]
    },
    {
     "name": "stdout",
     "output_type": "stream",
     "text": [
      "Iteration No: 36 ended. Search finished for the next optimal point.\n",
      "Time taken: 0.4099\n",
      "Function value obtained: -0.1227\n",
      "Current minimum: -0.1545\n",
      "Iteration No: 37 started. Searching for the next optimal point.\n"
     ]
    },
    {
     "name": "stderr",
     "output_type": "stream",
     "text": [
      "c:\\users\\diego.mayer\\documents\\developer\\projects\\movie_recommendation\\venv\\lib\\site-packages\\lightgbm\\basic.py:546: UserWarning: Converting data to scipy sparse matrix.\n",
      "  warnings.warn('Converting data to scipy sparse matrix.')\n"
     ]
    },
    {
     "name": "stdout",
     "output_type": "stream",
     "text": [
      "Iteration No: 37 ended. Search finished for the next optimal point.\n",
      "Time taken: 0.4298\n",
      "Function value obtained: -0.1268\n",
      "Current minimum: -0.1545\n",
      "Iteration No: 38 started. Searching for the next optimal point.\n"
     ]
    },
    {
     "name": "stderr",
     "output_type": "stream",
     "text": [
      "c:\\users\\diego.mayer\\documents\\developer\\projects\\movie_recommendation\\venv\\lib\\site-packages\\lightgbm\\basic.py:546: UserWarning: Converting data to scipy sparse matrix.\n",
      "  warnings.warn('Converting data to scipy sparse matrix.')\n"
     ]
    },
    {
     "name": "stdout",
     "output_type": "stream",
     "text": [
      "Iteration No: 38 ended. Search finished for the next optimal point.\n",
      "Time taken: 0.4434\n",
      "Function value obtained: -0.1252\n",
      "Current minimum: -0.1545\n",
      "Iteration No: 39 started. Searching for the next optimal point.\n"
     ]
    },
    {
     "name": "stderr",
     "output_type": "stream",
     "text": [
      "c:\\users\\diego.mayer\\documents\\developer\\projects\\movie_recommendation\\venv\\lib\\site-packages\\lightgbm\\basic.py:546: UserWarning: Converting data to scipy sparse matrix.\n",
      "  warnings.warn('Converting data to scipy sparse matrix.')\n"
     ]
    },
    {
     "name": "stdout",
     "output_type": "stream",
     "text": [
      "Iteration No: 39 ended. Search finished for the next optimal point.\n",
      "Time taken: 0.5464\n",
      "Function value obtained: -0.1086\n",
      "Current minimum: -0.1545\n",
      "Iteration No: 40 started. Searching for the next optimal point.\n"
     ]
    },
    {
     "name": "stderr",
     "output_type": "stream",
     "text": [
      "c:\\users\\diego.mayer\\documents\\developer\\projects\\movie_recommendation\\venv\\lib\\site-packages\\lightgbm\\basic.py:546: UserWarning: Converting data to scipy sparse matrix.\n",
      "  warnings.warn('Converting data to scipy sparse matrix.')\n"
     ]
    },
    {
     "name": "stdout",
     "output_type": "stream",
     "text": [
      "Iteration No: 40 ended. Search finished for the next optimal point.\n",
      "Time taken: 0.4412\n",
      "Function value obtained: -0.1317\n",
      "Current minimum: -0.1545\n",
      "Iteration No: 41 started. Searching for the next optimal point.\n"
     ]
    },
    {
     "name": "stderr",
     "output_type": "stream",
     "text": [
      "c:\\users\\diego.mayer\\documents\\developer\\projects\\movie_recommendation\\venv\\lib\\site-packages\\lightgbm\\basic.py:546: UserWarning: Converting data to scipy sparse matrix.\n",
      "  warnings.warn('Converting data to scipy sparse matrix.')\n"
     ]
    },
    {
     "name": "stdout",
     "output_type": "stream",
     "text": [
      "Iteration No: 41 ended. Search finished for the next optimal point.\n",
      "Time taken: 0.4188\n",
      "Function value obtained: -0.1498\n",
      "Current minimum: -0.1545\n",
      "Iteration No: 42 started. Searching for the next optimal point.\n"
     ]
    },
    {
     "name": "stderr",
     "output_type": "stream",
     "text": [
      "c:\\users\\diego.mayer\\documents\\developer\\projects\\movie_recommendation\\venv\\lib\\site-packages\\lightgbm\\basic.py:546: UserWarning: Converting data to scipy sparse matrix.\n",
      "  warnings.warn('Converting data to scipy sparse matrix.')\n"
     ]
    },
    {
     "name": "stdout",
     "output_type": "stream",
     "text": [
      "Iteration No: 42 ended. Search finished for the next optimal point.\n",
      "Time taken: 0.4296\n",
      "Function value obtained: -0.1368\n",
      "Current minimum: -0.1545\n",
      "Iteration No: 43 started. Searching for the next optimal point.\n"
     ]
    },
    {
     "name": "stderr",
     "output_type": "stream",
     "text": [
      "c:\\users\\diego.mayer\\documents\\developer\\projects\\movie_recommendation\\venv\\lib\\site-packages\\lightgbm\\basic.py:546: UserWarning: Converting data to scipy sparse matrix.\n",
      "  warnings.warn('Converting data to scipy sparse matrix.')\n"
     ]
    },
    {
     "name": "stdout",
     "output_type": "stream",
     "text": [
      "Iteration No: 43 ended. Search finished for the next optimal point.\n",
      "Time taken: 0.4265\n",
      "Function value obtained: -0.1374\n",
      "Current minimum: -0.1545\n",
      "Iteration No: 44 started. Searching for the next optimal point.\n"
     ]
    },
    {
     "name": "stderr",
     "output_type": "stream",
     "text": [
      "c:\\users\\diego.mayer\\documents\\developer\\projects\\movie_recommendation\\venv\\lib\\site-packages\\lightgbm\\basic.py:546: UserWarning: Converting data to scipy sparse matrix.\n",
      "  warnings.warn('Converting data to scipy sparse matrix.')\n"
     ]
    },
    {
     "name": "stdout",
     "output_type": "stream",
     "text": [
      "Iteration No: 44 ended. Search finished for the next optimal point.\n",
      "Time taken: 0.3901\n",
      "Function value obtained: -0.1547\n",
      "Current minimum: -0.1547\n",
      "Iteration No: 45 started. Searching for the next optimal point.\n"
     ]
    },
    {
     "name": "stderr",
     "output_type": "stream",
     "text": [
      "c:\\users\\diego.mayer\\documents\\developer\\projects\\movie_recommendation\\venv\\lib\\site-packages\\lightgbm\\basic.py:546: UserWarning: Converting data to scipy sparse matrix.\n",
      "  warnings.warn('Converting data to scipy sparse matrix.')\n"
     ]
    },
    {
     "name": "stdout",
     "output_type": "stream",
     "text": [
      "Iteration No: 45 ended. Search finished for the next optimal point.\n",
      "Time taken: 0.4372\n",
      "Function value obtained: -0.1311\n",
      "Current minimum: -0.1547\n",
      "Iteration No: 46 started. Searching for the next optimal point.\n"
     ]
    },
    {
     "name": "stderr",
     "output_type": "stream",
     "text": [
      "c:\\users\\diego.mayer\\documents\\developer\\projects\\movie_recommendation\\venv\\lib\\site-packages\\lightgbm\\basic.py:546: UserWarning: Converting data to scipy sparse matrix.\n",
      "  warnings.warn('Converting data to scipy sparse matrix.')\n"
     ]
    },
    {
     "name": "stdout",
     "output_type": "stream",
     "text": [
      "Iteration No: 46 ended. Search finished for the next optimal point.\n",
      "Time taken: 0.4333\n",
      "Function value obtained: -0.1519\n",
      "Current minimum: -0.1547\n",
      "Iteration No: 47 started. Searching for the next optimal point.\n"
     ]
    },
    {
     "name": "stderr",
     "output_type": "stream",
     "text": [
      "c:\\users\\diego.mayer\\documents\\developer\\projects\\movie_recommendation\\venv\\lib\\site-packages\\lightgbm\\basic.py:546: UserWarning: Converting data to scipy sparse matrix.\n",
      "  warnings.warn('Converting data to scipy sparse matrix.')\n"
     ]
    },
    {
     "name": "stdout",
     "output_type": "stream",
     "text": [
      "Iteration No: 47 ended. Search finished for the next optimal point.\n",
      "Time taken: 0.5166\n",
      "Function value obtained: -0.1376\n",
      "Current minimum: -0.1547\n",
      "Iteration No: 48 started. Searching for the next optimal point.\n"
     ]
    },
    {
     "name": "stderr",
     "output_type": "stream",
     "text": [
      "c:\\users\\diego.mayer\\documents\\developer\\projects\\movie_recommendation\\venv\\lib\\site-packages\\lightgbm\\basic.py:546: UserWarning: Converting data to scipy sparse matrix.\n",
      "  warnings.warn('Converting data to scipy sparse matrix.')\n"
     ]
    },
    {
     "name": "stdout",
     "output_type": "stream",
     "text": [
      "Iteration No: 48 ended. Search finished for the next optimal point.\n",
      "Time taken: 0.4620\n",
      "Function value obtained: -0.1261\n",
      "Current minimum: -0.1547\n",
      "Iteration No: 49 started. Searching for the next optimal point.\n"
     ]
    },
    {
     "name": "stderr",
     "output_type": "stream",
     "text": [
      "c:\\users\\diego.mayer\\documents\\developer\\projects\\movie_recommendation\\venv\\lib\\site-packages\\lightgbm\\basic.py:546: UserWarning: Converting data to scipy sparse matrix.\n",
      "  warnings.warn('Converting data to scipy sparse matrix.')\n"
     ]
    },
    {
     "name": "stdout",
     "output_type": "stream",
     "text": [
      "Iteration No: 49 ended. Search finished for the next optimal point.\n",
      "Time taken: 0.4303\n",
      "Function value obtained: -0.1389\n",
      "Current minimum: -0.1547\n",
      "Iteration No: 50 started. Searching for the next optimal point.\n"
     ]
    },
    {
     "name": "stderr",
     "output_type": "stream",
     "text": [
      "c:\\users\\diego.mayer\\documents\\developer\\projects\\movie_recommendation\\venv\\lib\\site-packages\\lightgbm\\basic.py:546: UserWarning: Converting data to scipy sparse matrix.\n",
      "  warnings.warn('Converting data to scipy sparse matrix.')\n"
     ]
    },
    {
     "name": "stdout",
     "output_type": "stream",
     "text": [
      "Iteration No: 50 ended. Search finished for the next optimal point.\n",
      "Time taken: 0.4313\n",
      "Function value obtained: -0.1715\n",
      "Current minimum: -0.1715\n",
      "Iteration No: 51 started. Searching for the next optimal point.\n"
     ]
    },
    {
     "name": "stderr",
     "output_type": "stream",
     "text": [
      "c:\\users\\diego.mayer\\documents\\developer\\projects\\movie_recommendation\\venv\\lib\\site-packages\\lightgbm\\basic.py:546: UserWarning: Converting data to scipy sparse matrix.\n",
      "  warnings.warn('Converting data to scipy sparse matrix.')\n"
     ]
    },
    {
     "name": "stdout",
     "output_type": "stream",
     "text": [
      "Iteration No: 51 ended. Search finished for the next optimal point.\n",
      "Time taken: 0.4429\n",
      "Function value obtained: -0.1525\n",
      "Current minimum: -0.1715\n",
      "Iteration No: 52 started. Searching for the next optimal point.\n"
     ]
    },
    {
     "name": "stderr",
     "output_type": "stream",
     "text": [
      "c:\\users\\diego.mayer\\documents\\developer\\projects\\movie_recommendation\\venv\\lib\\site-packages\\lightgbm\\basic.py:546: UserWarning: Converting data to scipy sparse matrix.\n",
      "  warnings.warn('Converting data to scipy sparse matrix.')\n"
     ]
    },
    {
     "name": "stdout",
     "output_type": "stream",
     "text": [
      "Iteration No: 52 ended. Search finished for the next optimal point.\n",
      "Time taken: 0.4423\n",
      "Function value obtained: -0.1508\n",
      "Current minimum: -0.1715\n",
      "Iteration No: 53 started. Searching for the next optimal point.\n"
     ]
    },
    {
     "name": "stderr",
     "output_type": "stream",
     "text": [
      "c:\\users\\diego.mayer\\documents\\developer\\projects\\movie_recommendation\\venv\\lib\\site-packages\\lightgbm\\basic.py:546: UserWarning: Converting data to scipy sparse matrix.\n",
      "  warnings.warn('Converting data to scipy sparse matrix.')\n"
     ]
    },
    {
     "name": "stdout",
     "output_type": "stream",
     "text": [
      "Iteration No: 53 ended. Search finished for the next optimal point.\n",
      "Time taken: 0.4423\n",
      "Function value obtained: -0.1166\n",
      "Current minimum: -0.1715\n",
      "Iteration No: 54 started. Searching for the next optimal point.\n"
     ]
    },
    {
     "name": "stderr",
     "output_type": "stream",
     "text": [
      "c:\\users\\diego.mayer\\documents\\developer\\projects\\movie_recommendation\\venv\\lib\\site-packages\\lightgbm\\basic.py:546: UserWarning: Converting data to scipy sparse matrix.\n",
      "  warnings.warn('Converting data to scipy sparse matrix.')\n"
     ]
    },
    {
     "name": "stdout",
     "output_type": "stream",
     "text": [
      "Iteration No: 54 ended. Search finished for the next optimal point.\n",
      "Time taken: 0.4225\n",
      "Function value obtained: -0.1659\n",
      "Current minimum: -0.1715\n",
      "Iteration No: 55 started. Searching for the next optimal point.\n"
     ]
    },
    {
     "name": "stderr",
     "output_type": "stream",
     "text": [
      "c:\\users\\diego.mayer\\documents\\developer\\projects\\movie_recommendation\\venv\\lib\\site-packages\\lightgbm\\basic.py:546: UserWarning: Converting data to scipy sparse matrix.\n",
      "  warnings.warn('Converting data to scipy sparse matrix.')\n"
     ]
    },
    {
     "name": "stdout",
     "output_type": "stream",
     "text": [
      "Iteration No: 55 ended. Search finished for the next optimal point.\n",
      "Time taken: 0.4197\n",
      "Function value obtained: -0.1578\n",
      "Current minimum: -0.1715\n",
      "Iteration No: 56 started. Searching for the next optimal point.\n"
     ]
    },
    {
     "name": "stderr",
     "output_type": "stream",
     "text": [
      "c:\\users\\diego.mayer\\documents\\developer\\projects\\movie_recommendation\\venv\\lib\\site-packages\\lightgbm\\basic.py:546: UserWarning: Converting data to scipy sparse matrix.\n",
      "  warnings.warn('Converting data to scipy sparse matrix.')\n"
     ]
    },
    {
     "name": "stdout",
     "output_type": "stream",
     "text": [
      "Iteration No: 56 ended. Search finished for the next optimal point.\n",
      "Time taken: 0.5925\n",
      "Function value obtained: -0.1278\n",
      "Current minimum: -0.1715\n",
      "Iteration No: 57 started. Searching for the next optimal point.\n"
     ]
    },
    {
     "name": "stderr",
     "output_type": "stream",
     "text": [
      "c:\\users\\diego.mayer\\documents\\developer\\projects\\movie_recommendation\\venv\\lib\\site-packages\\lightgbm\\basic.py:546: UserWarning: Converting data to scipy sparse matrix.\n",
      "  warnings.warn('Converting data to scipy sparse matrix.')\n"
     ]
    },
    {
     "name": "stdout",
     "output_type": "stream",
     "text": [
      "Iteration No: 57 ended. Search finished for the next optimal point.\n",
      "Time taken: 0.4250\n",
      "Function value obtained: -0.1592\n",
      "Current minimum: -0.1715\n",
      "Iteration No: 58 started. Searching for the next optimal point.\n"
     ]
    },
    {
     "name": "stderr",
     "output_type": "stream",
     "text": [
      "c:\\users\\diego.mayer\\documents\\developer\\projects\\movie_recommendation\\venv\\lib\\site-packages\\lightgbm\\basic.py:546: UserWarning: Converting data to scipy sparse matrix.\n",
      "  warnings.warn('Converting data to scipy sparse matrix.')\n"
     ]
    },
    {
     "name": "stdout",
     "output_type": "stream",
     "text": [
      "Iteration No: 58 ended. Search finished for the next optimal point.\n",
      "Time taken: 0.4551\n",
      "Function value obtained: -0.1644\n",
      "Current minimum: -0.1715\n",
      "Iteration No: 59 started. Searching for the next optimal point.\n"
     ]
    },
    {
     "name": "stderr",
     "output_type": "stream",
     "text": [
      "c:\\users\\diego.mayer\\documents\\developer\\projects\\movie_recommendation\\venv\\lib\\site-packages\\lightgbm\\basic.py:546: UserWarning: Converting data to scipy sparse matrix.\n",
      "  warnings.warn('Converting data to scipy sparse matrix.')\n"
     ]
    },
    {
     "name": "stdout",
     "output_type": "stream",
     "text": [
      "Iteration No: 59 ended. Search finished for the next optimal point.\n",
      "Time taken: 0.4174\n",
      "Function value obtained: -0.1285\n",
      "Current minimum: -0.1715\n",
      "Iteration No: 60 started. Searching for the next optimal point.\n"
     ]
    },
    {
     "name": "stderr",
     "output_type": "stream",
     "text": [
      "c:\\users\\diego.mayer\\documents\\developer\\projects\\movie_recommendation\\venv\\lib\\site-packages\\lightgbm\\basic.py:546: UserWarning: Converting data to scipy sparse matrix.\n",
      "  warnings.warn('Converting data to scipy sparse matrix.')\n"
     ]
    },
    {
     "name": "stdout",
     "output_type": "stream",
     "text": [
      "Iteration No: 60 ended. Search finished for the next optimal point.\n",
      "Time taken: 0.4023\n",
      "Function value obtained: -0.1442\n",
      "Current minimum: -0.1715\n",
      "Iteration No: 61 started. Searching for the next optimal point.\n"
     ]
    },
    {
     "name": "stderr",
     "output_type": "stream",
     "text": [
      "c:\\users\\diego.mayer\\documents\\developer\\projects\\movie_recommendation\\venv\\lib\\site-packages\\lightgbm\\basic.py:546: UserWarning: Converting data to scipy sparse matrix.\n",
      "  warnings.warn('Converting data to scipy sparse matrix.')\n"
     ]
    },
    {
     "name": "stdout",
     "output_type": "stream",
     "text": [
      "Iteration No: 61 ended. Search finished for the next optimal point.\n",
      "Time taken: 0.4244\n",
      "Function value obtained: -0.1143\n",
      "Current minimum: -0.1715\n",
      "Iteration No: 62 started. Searching for the next optimal point.\n"
     ]
    },
    {
     "name": "stderr",
     "output_type": "stream",
     "text": [
      "c:\\users\\diego.mayer\\documents\\developer\\projects\\movie_recommendation\\venv\\lib\\site-packages\\lightgbm\\basic.py:546: UserWarning: Converting data to scipy sparse matrix.\n",
      "  warnings.warn('Converting data to scipy sparse matrix.')\n"
     ]
    },
    {
     "name": "stdout",
     "output_type": "stream",
     "text": [
      "Iteration No: 62 ended. Search finished for the next optimal point.\n",
      "Time taken: 0.4577\n",
      "Function value obtained: -0.1523\n",
      "Current minimum: -0.1715\n",
      "Iteration No: 63 started. Searching for the next optimal point.\n"
     ]
    },
    {
     "name": "stderr",
     "output_type": "stream",
     "text": [
      "c:\\users\\diego.mayer\\documents\\developer\\projects\\movie_recommendation\\venv\\lib\\site-packages\\lightgbm\\basic.py:546: UserWarning: Converting data to scipy sparse matrix.\n",
      "  warnings.warn('Converting data to scipy sparse matrix.')\n"
     ]
    },
    {
     "name": "stdout",
     "output_type": "stream",
     "text": [
      "Iteration No: 63 ended. Search finished for the next optimal point.\n",
      "Time taken: 0.4842\n",
      "Function value obtained: -0.1185\n",
      "Current minimum: -0.1715\n",
      "Iteration No: 64 started. Searching for the next optimal point.\n"
     ]
    },
    {
     "name": "stderr",
     "output_type": "stream",
     "text": [
      "c:\\users\\diego.mayer\\documents\\developer\\projects\\movie_recommendation\\venv\\lib\\site-packages\\lightgbm\\basic.py:546: UserWarning: Converting data to scipy sparse matrix.\n",
      "  warnings.warn('Converting data to scipy sparse matrix.')\n"
     ]
    },
    {
     "name": "stdout",
     "output_type": "stream",
     "text": [
      "Iteration No: 64 ended. Search finished for the next optimal point.\n",
      "Time taken: 0.4229\n",
      "Function value obtained: -0.1213\n",
      "Current minimum: -0.1715\n",
      "Iteration No: 65 started. Searching for the next optimal point.\n"
     ]
    },
    {
     "name": "stderr",
     "output_type": "stream",
     "text": [
      "c:\\users\\diego.mayer\\documents\\developer\\projects\\movie_recommendation\\venv\\lib\\site-packages\\lightgbm\\basic.py:546: UserWarning: Converting data to scipy sparse matrix.\n",
      "  warnings.warn('Converting data to scipy sparse matrix.')\n"
     ]
    },
    {
     "name": "stdout",
     "output_type": "stream",
     "text": [
      "Iteration No: 65 ended. Search finished for the next optimal point.\n",
      "Time taken: 0.4384\n",
      "Function value obtained: -0.1316\n",
      "Current minimum: -0.1715\n",
      "Iteration No: 66 started. Searching for the next optimal point.\n"
     ]
    },
    {
     "name": "stderr",
     "output_type": "stream",
     "text": [
      "c:\\users\\diego.mayer\\documents\\developer\\projects\\movie_recommendation\\venv\\lib\\site-packages\\lightgbm\\basic.py:546: UserWarning: Converting data to scipy sparse matrix.\n",
      "  warnings.warn('Converting data to scipy sparse matrix.')\n"
     ]
    },
    {
     "name": "stdout",
     "output_type": "stream",
     "text": [
      "Iteration No: 66 ended. Search finished for the next optimal point.\n",
      "Time taken: 0.4932\n",
      "Function value obtained: -0.1094\n",
      "Current minimum: -0.1715\n",
      "Iteration No: 67 started. Searching for the next optimal point.\n"
     ]
    },
    {
     "name": "stderr",
     "output_type": "stream",
     "text": [
      "c:\\users\\diego.mayer\\documents\\developer\\projects\\movie_recommendation\\venv\\lib\\site-packages\\lightgbm\\basic.py:546: UserWarning: Converting data to scipy sparse matrix.\n",
      "  warnings.warn('Converting data to scipy sparse matrix.')\n"
     ]
    },
    {
     "name": "stdout",
     "output_type": "stream",
     "text": [
      "Iteration No: 67 ended. Search finished for the next optimal point.\n",
      "Time taken: 0.4775\n",
      "Function value obtained: -0.1092\n",
      "Current minimum: -0.1715\n",
      "Iteration No: 68 started. Searching for the next optimal point.\n"
     ]
    },
    {
     "name": "stderr",
     "output_type": "stream",
     "text": [
      "c:\\users\\diego.mayer\\documents\\developer\\projects\\movie_recommendation\\venv\\lib\\site-packages\\lightgbm\\basic.py:546: UserWarning: Converting data to scipy sparse matrix.\n",
      "  warnings.warn('Converting data to scipy sparse matrix.')\n"
     ]
    },
    {
     "name": "stdout",
     "output_type": "stream",
     "text": [
      "Iteration No: 68 ended. Search finished for the next optimal point.\n",
      "Time taken: 0.5615\n",
      "Function value obtained: -0.1521\n",
      "Current minimum: -0.1715\n",
      "Iteration No: 69 started. Searching for the next optimal point.\n"
     ]
    },
    {
     "name": "stderr",
     "output_type": "stream",
     "text": [
      "c:\\users\\diego.mayer\\documents\\developer\\projects\\movie_recommendation\\venv\\lib\\site-packages\\lightgbm\\basic.py:546: UserWarning: Converting data to scipy sparse matrix.\n",
      "  warnings.warn('Converting data to scipy sparse matrix.')\n"
     ]
    },
    {
     "name": "stdout",
     "output_type": "stream",
     "text": [
      "Iteration No: 69 ended. Search finished for the next optimal point.\n",
      "Time taken: 0.5290\n",
      "Function value obtained: -0.1807\n",
      "Current minimum: -0.1807\n",
      "Iteration No: 70 started. Searching for the next optimal point.\n"
     ]
    },
    {
     "name": "stderr",
     "output_type": "stream",
     "text": [
      "c:\\users\\diego.mayer\\documents\\developer\\projects\\movie_recommendation\\venv\\lib\\site-packages\\lightgbm\\basic.py:546: UserWarning: Converting data to scipy sparse matrix.\n",
      "  warnings.warn('Converting data to scipy sparse matrix.')\n"
     ]
    },
    {
     "name": "stdout",
     "output_type": "stream",
     "text": [
      "Iteration No: 70 ended. Search finished for the next optimal point.\n",
      "Time taken: 0.4324\n",
      "Function value obtained: -0.1344\n",
      "Current minimum: -0.1807\n",
      "Iteration No: 71 started. Searching for the next optimal point.\n"
     ]
    },
    {
     "name": "stderr",
     "output_type": "stream",
     "text": [
      "c:\\users\\diego.mayer\\documents\\developer\\projects\\movie_recommendation\\venv\\lib\\site-packages\\lightgbm\\basic.py:546: UserWarning: Converting data to scipy sparse matrix.\n",
      "  warnings.warn('Converting data to scipy sparse matrix.')\n"
     ]
    },
    {
     "name": "stdout",
     "output_type": "stream",
     "text": [
      "Iteration No: 71 ended. Search finished for the next optimal point.\n",
      "Time taken: 0.5074\n",
      "Function value obtained: -0.1717\n",
      "Current minimum: -0.1807\n",
      "Iteration No: 72 started. Searching for the next optimal point.\n"
     ]
    },
    {
     "name": "stderr",
     "output_type": "stream",
     "text": [
      "c:\\users\\diego.mayer\\documents\\developer\\projects\\movie_recommendation\\venv\\lib\\site-packages\\lightgbm\\basic.py:546: UserWarning: Converting data to scipy sparse matrix.\n",
      "  warnings.warn('Converting data to scipy sparse matrix.')\n"
     ]
    },
    {
     "name": "stdout",
     "output_type": "stream",
     "text": [
      "Iteration No: 72 ended. Search finished for the next optimal point.\n",
      "Time taken: 0.7181\n",
      "Function value obtained: -0.1486\n",
      "Current minimum: -0.1807\n",
      "Iteration No: 73 started. Searching for the next optimal point.\n"
     ]
    },
    {
     "name": "stderr",
     "output_type": "stream",
     "text": [
      "c:\\users\\diego.mayer\\documents\\developer\\projects\\movie_recommendation\\venv\\lib\\site-packages\\lightgbm\\basic.py:546: UserWarning: Converting data to scipy sparse matrix.\n",
      "  warnings.warn('Converting data to scipy sparse matrix.')\n"
     ]
    },
    {
     "name": "stdout",
     "output_type": "stream",
     "text": [
      "Iteration No: 73 ended. Search finished for the next optimal point.\n",
      "Time taken: 0.5471\n",
      "Function value obtained: -0.1390\n",
      "Current minimum: -0.1807\n",
      "Iteration No: 74 started. Searching for the next optimal point.\n"
     ]
    },
    {
     "name": "stderr",
     "output_type": "stream",
     "text": [
      "c:\\users\\diego.mayer\\documents\\developer\\projects\\movie_recommendation\\venv\\lib\\site-packages\\lightgbm\\basic.py:546: UserWarning: Converting data to scipy sparse matrix.\n",
      "  warnings.warn('Converting data to scipy sparse matrix.')\n"
     ]
    },
    {
     "name": "stdout",
     "output_type": "stream",
     "text": [
      "Iteration No: 74 ended. Search finished for the next optimal point.\n",
      "Time taken: 0.5299\n",
      "Function value obtained: -0.1506\n",
      "Current minimum: -0.1807\n",
      "Iteration No: 75 started. Searching for the next optimal point.\n"
     ]
    },
    {
     "name": "stderr",
     "output_type": "stream",
     "text": [
      "c:\\users\\diego.mayer\\documents\\developer\\projects\\movie_recommendation\\venv\\lib\\site-packages\\lightgbm\\basic.py:546: UserWarning: Converting data to scipy sparse matrix.\n",
      "  warnings.warn('Converting data to scipy sparse matrix.')\n"
     ]
    },
    {
     "name": "stdout",
     "output_type": "stream",
     "text": [
      "Iteration No: 75 ended. Search finished for the next optimal point.\n",
      "Time taken: 0.5964\n",
      "Function value obtained: -0.1532\n",
      "Current minimum: -0.1807\n",
      "Iteration No: 76 started. Searching for the next optimal point.\n"
     ]
    },
    {
     "name": "stderr",
     "output_type": "stream",
     "text": [
      "c:\\users\\diego.mayer\\documents\\developer\\projects\\movie_recommendation\\venv\\lib\\site-packages\\lightgbm\\basic.py:546: UserWarning: Converting data to scipy sparse matrix.\n",
      "  warnings.warn('Converting data to scipy sparse matrix.')\n"
     ]
    },
    {
     "name": "stdout",
     "output_type": "stream",
     "text": [
      "Iteration No: 76 ended. Search finished for the next optimal point.\n",
      "Time taken: 0.5096\n",
      "Function value obtained: -0.1351\n",
      "Current minimum: -0.1807\n",
      "Iteration No: 77 started. Searching for the next optimal point.\n"
     ]
    },
    {
     "name": "stderr",
     "output_type": "stream",
     "text": [
      "c:\\users\\diego.mayer\\documents\\developer\\projects\\movie_recommendation\\venv\\lib\\site-packages\\lightgbm\\basic.py:546: UserWarning: Converting data to scipy sparse matrix.\n",
      "  warnings.warn('Converting data to scipy sparse matrix.')\n"
     ]
    },
    {
     "name": "stdout",
     "output_type": "stream",
     "text": [
      "Iteration No: 77 ended. Search finished for the next optimal point.\n",
      "Time taken: 0.5705\n",
      "Function value obtained: -0.1922\n",
      "Current minimum: -0.1922\n",
      "Iteration No: 78 started. Searching for the next optimal point.\n"
     ]
    },
    {
     "name": "stderr",
     "output_type": "stream",
     "text": [
      "c:\\users\\diego.mayer\\documents\\developer\\projects\\movie_recommendation\\venv\\lib\\site-packages\\lightgbm\\basic.py:546: UserWarning: Converting data to scipy sparse matrix.\n",
      "  warnings.warn('Converting data to scipy sparse matrix.')\n"
     ]
    },
    {
     "name": "stdout",
     "output_type": "stream",
     "text": [
      "Iteration No: 78 ended. Search finished for the next optimal point.\n",
      "Time taken: 0.5929\n",
      "Function value obtained: -0.1459\n",
      "Current minimum: -0.1922\n",
      "Iteration No: 79 started. Searching for the next optimal point.\n"
     ]
    },
    {
     "name": "stderr",
     "output_type": "stream",
     "text": [
      "c:\\users\\diego.mayer\\documents\\developer\\projects\\movie_recommendation\\venv\\lib\\site-packages\\lightgbm\\basic.py:546: UserWarning: Converting data to scipy sparse matrix.\n",
      "  warnings.warn('Converting data to scipy sparse matrix.')\n"
     ]
    },
    {
     "name": "stdout",
     "output_type": "stream",
     "text": [
      "Iteration No: 79 ended. Search finished for the next optimal point.\n",
      "Time taken: 0.5272\n",
      "Function value obtained: -0.1562\n",
      "Current minimum: -0.1922\n",
      "Iteration No: 80 started. Searching for the next optimal point.\n"
     ]
    },
    {
     "name": "stderr",
     "output_type": "stream",
     "text": [
      "c:\\users\\diego.mayer\\documents\\developer\\projects\\movie_recommendation\\venv\\lib\\site-packages\\lightgbm\\basic.py:546: UserWarning: Converting data to scipy sparse matrix.\n",
      "  warnings.warn('Converting data to scipy sparse matrix.')\n"
     ]
    },
    {
     "name": "stdout",
     "output_type": "stream",
     "text": [
      "Iteration No: 80 ended. Search finished for the next optimal point.\n",
      "Time taken: 0.5339\n",
      "Function value obtained: -0.1576\n",
      "Current minimum: -0.1922\n",
      "Iteration No: 81 started. Searching for the next optimal point.\n"
     ]
    },
    {
     "name": "stderr",
     "output_type": "stream",
     "text": [
      "c:\\users\\diego.mayer\\documents\\developer\\projects\\movie_recommendation\\venv\\lib\\site-packages\\lightgbm\\basic.py:546: UserWarning: Converting data to scipy sparse matrix.\n",
      "  warnings.warn('Converting data to scipy sparse matrix.')\n"
     ]
    },
    {
     "name": "stdout",
     "output_type": "stream",
     "text": [
      "Iteration No: 81 ended. Search finished for the next optimal point.\n",
      "Time taken: 0.5357\n",
      "Function value obtained: -0.1535\n",
      "Current minimum: -0.1922\n",
      "Iteration No: 82 started. Searching for the next optimal point.\n"
     ]
    },
    {
     "name": "stderr",
     "output_type": "stream",
     "text": [
      "c:\\users\\diego.mayer\\documents\\developer\\projects\\movie_recommendation\\venv\\lib\\site-packages\\lightgbm\\basic.py:546: UserWarning: Converting data to scipy sparse matrix.\n",
      "  warnings.warn('Converting data to scipy sparse matrix.')\n"
     ]
    },
    {
     "name": "stdout",
     "output_type": "stream",
     "text": [
      "Iteration No: 82 ended. Search finished for the next optimal point.\n",
      "Time taken: 0.5624\n",
      "Function value obtained: -0.1484\n",
      "Current minimum: -0.1922\n",
      "Iteration No: 83 started. Searching for the next optimal point.\n"
     ]
    },
    {
     "name": "stderr",
     "output_type": "stream",
     "text": [
      "c:\\users\\diego.mayer\\documents\\developer\\projects\\movie_recommendation\\venv\\lib\\site-packages\\lightgbm\\basic.py:546: UserWarning: Converting data to scipy sparse matrix.\n",
      "  warnings.warn('Converting data to scipy sparse matrix.')\n"
     ]
    },
    {
     "name": "stdout",
     "output_type": "stream",
     "text": [
      "Iteration No: 83 ended. Search finished for the next optimal point.\n",
      "Time taken: 0.5555\n",
      "Function value obtained: -0.2120\n",
      "Current minimum: -0.2120\n",
      "Iteration No: 84 started. Searching for the next optimal point.\n"
     ]
    },
    {
     "name": "stderr",
     "output_type": "stream",
     "text": [
      "c:\\users\\diego.mayer\\documents\\developer\\projects\\movie_recommendation\\venv\\lib\\site-packages\\lightgbm\\basic.py:546: UserWarning: Converting data to scipy sparse matrix.\n",
      "  warnings.warn('Converting data to scipy sparse matrix.')\n"
     ]
    },
    {
     "name": "stdout",
     "output_type": "stream",
     "text": [
      "Iteration No: 84 ended. Search finished for the next optimal point.\n",
      "Time taken: 0.5774\n",
      "Function value obtained: -0.2181\n",
      "Current minimum: -0.2181\n",
      "Iteration No: 85 started. Searching for the next optimal point.\n"
     ]
    },
    {
     "name": "stderr",
     "output_type": "stream",
     "text": [
      "c:\\users\\diego.mayer\\documents\\developer\\projects\\movie_recommendation\\venv\\lib\\site-packages\\lightgbm\\basic.py:546: UserWarning: Converting data to scipy sparse matrix.\n",
      "  warnings.warn('Converting data to scipy sparse matrix.')\n"
     ]
    },
    {
     "name": "stdout",
     "output_type": "stream",
     "text": [
      "Iteration No: 85 ended. Search finished for the next optimal point.\n",
      "Time taken: 0.6085\n",
      "Function value obtained: -0.1785\n",
      "Current minimum: -0.2181\n",
      "Iteration No: 86 started. Searching for the next optimal point.\n"
     ]
    },
    {
     "name": "stderr",
     "output_type": "stream",
     "text": [
      "c:\\users\\diego.mayer\\documents\\developer\\projects\\movie_recommendation\\venv\\lib\\site-packages\\lightgbm\\basic.py:546: UserWarning: Converting data to scipy sparse matrix.\n",
      "  warnings.warn('Converting data to scipy sparse matrix.')\n"
     ]
    },
    {
     "name": "stdout",
     "output_type": "stream",
     "text": [
      "Iteration No: 86 ended. Search finished for the next optimal point.\n",
      "Time taken: 0.6203\n",
      "Function value obtained: -0.1962\n",
      "Current minimum: -0.2181\n",
      "Iteration No: 87 started. Searching for the next optimal point.\n"
     ]
    },
    {
     "name": "stderr",
     "output_type": "stream",
     "text": [
      "c:\\users\\diego.mayer\\documents\\developer\\projects\\movie_recommendation\\venv\\lib\\site-packages\\lightgbm\\basic.py:546: UserWarning: Converting data to scipy sparse matrix.\n",
      "  warnings.warn('Converting data to scipy sparse matrix.')\n"
     ]
    },
    {
     "name": "stdout",
     "output_type": "stream",
     "text": [
      "Iteration No: 87 ended. Search finished for the next optimal point.\n",
      "Time taken: 0.7283\n",
      "Function value obtained: -0.1797\n",
      "Current minimum: -0.2181\n",
      "Iteration No: 88 started. Searching for the next optimal point.\n"
     ]
    },
    {
     "name": "stderr",
     "output_type": "stream",
     "text": [
      "c:\\users\\diego.mayer\\documents\\developer\\projects\\movie_recommendation\\venv\\lib\\site-packages\\lightgbm\\basic.py:546: UserWarning: Converting data to scipy sparse matrix.\n",
      "  warnings.warn('Converting data to scipy sparse matrix.')\n"
     ]
    },
    {
     "name": "stdout",
     "output_type": "stream",
     "text": [
      "Iteration No: 88 ended. Search finished for the next optimal point.\n",
      "Time taken: 0.5625\n",
      "Function value obtained: -0.1962\n",
      "Current minimum: -0.2181\n",
      "Iteration No: 89 started. Searching for the next optimal point.\n"
     ]
    },
    {
     "name": "stderr",
     "output_type": "stream",
     "text": [
      "c:\\users\\diego.mayer\\documents\\developer\\projects\\movie_recommendation\\venv\\lib\\site-packages\\lightgbm\\basic.py:546: UserWarning: Converting data to scipy sparse matrix.\n",
      "  warnings.warn('Converting data to scipy sparse matrix.')\n"
     ]
    },
    {
     "name": "stdout",
     "output_type": "stream",
     "text": [
      "Iteration No: 89 ended. Search finished for the next optimal point.\n",
      "Time taken: 0.6556\n",
      "Function value obtained: -0.1983\n",
      "Current minimum: -0.2181\n",
      "Iteration No: 90 started. Searching for the next optimal point.\n"
     ]
    },
    {
     "name": "stderr",
     "output_type": "stream",
     "text": [
      "c:\\users\\diego.mayer\\documents\\developer\\projects\\movie_recommendation\\venv\\lib\\site-packages\\lightgbm\\basic.py:546: UserWarning: Converting data to scipy sparse matrix.\n",
      "  warnings.warn('Converting data to scipy sparse matrix.')\n"
     ]
    },
    {
     "name": "stdout",
     "output_type": "stream",
     "text": [
      "Iteration No: 90 ended. Search finished for the next optimal point.\n",
      "Time taken: 0.5720\n",
      "Function value obtained: -0.1842\n",
      "Current minimum: -0.2181\n",
      "Iteration No: 91 started. Searching for the next optimal point.\n"
     ]
    },
    {
     "name": "stderr",
     "output_type": "stream",
     "text": [
      "c:\\users\\diego.mayer\\documents\\developer\\projects\\movie_recommendation\\venv\\lib\\site-packages\\lightgbm\\basic.py:546: UserWarning: Converting data to scipy sparse matrix.\n",
      "  warnings.warn('Converting data to scipy sparse matrix.')\n"
     ]
    },
    {
     "name": "stdout",
     "output_type": "stream",
     "text": [
      "Iteration No: 91 ended. Search finished for the next optimal point.\n",
      "Time taken: 0.6869\n",
      "Function value obtained: -0.1964\n",
      "Current minimum: -0.2181\n",
      "Iteration No: 92 started. Searching for the next optimal point.\n"
     ]
    },
    {
     "name": "stderr",
     "output_type": "stream",
     "text": [
      "c:\\users\\diego.mayer\\documents\\developer\\projects\\movie_recommendation\\venv\\lib\\site-packages\\lightgbm\\basic.py:546: UserWarning: Converting data to scipy sparse matrix.\n",
      "  warnings.warn('Converting data to scipy sparse matrix.')\n"
     ]
    },
    {
     "name": "stdout",
     "output_type": "stream",
     "text": [
      "Iteration No: 92 ended. Search finished for the next optimal point.\n",
      "Time taken: 0.6662\n",
      "Function value obtained: -0.1182\n",
      "Current minimum: -0.2181\n",
      "Iteration No: 93 started. Searching for the next optimal point.\n"
     ]
    },
    {
     "name": "stderr",
     "output_type": "stream",
     "text": [
      "c:\\users\\diego.mayer\\documents\\developer\\projects\\movie_recommendation\\venv\\lib\\site-packages\\lightgbm\\basic.py:546: UserWarning: Converting data to scipy sparse matrix.\n",
      "  warnings.warn('Converting data to scipy sparse matrix.')\n"
     ]
    },
    {
     "name": "stdout",
     "output_type": "stream",
     "text": [
      "Iteration No: 93 ended. Search finished for the next optimal point.\n",
      "Time taken: 0.6389\n",
      "Function value obtained: -0.1763\n",
      "Current minimum: -0.2181\n",
      "Iteration No: 94 started. Searching for the next optimal point.\n"
     ]
    },
    {
     "name": "stderr",
     "output_type": "stream",
     "text": [
      "c:\\users\\diego.mayer\\documents\\developer\\projects\\movie_recommendation\\venv\\lib\\site-packages\\lightgbm\\basic.py:546: UserWarning: Converting data to scipy sparse matrix.\n",
      "  warnings.warn('Converting data to scipy sparse matrix.')\n"
     ]
    },
    {
     "name": "stdout",
     "output_type": "stream",
     "text": [
      "Iteration No: 94 ended. Search finished for the next optimal point.\n",
      "Time taken: 0.6765\n",
      "Function value obtained: -0.1284\n",
      "Current minimum: -0.2181\n",
      "Iteration No: 95 started. Searching for the next optimal point.\n"
     ]
    },
    {
     "name": "stderr",
     "output_type": "stream",
     "text": [
      "c:\\users\\diego.mayer\\documents\\developer\\projects\\movie_recommendation\\venv\\lib\\site-packages\\lightgbm\\basic.py:546: UserWarning: Converting data to scipy sparse matrix.\n",
      "  warnings.warn('Converting data to scipy sparse matrix.')\n"
     ]
    },
    {
     "name": "stdout",
     "output_type": "stream",
     "text": [
      "Iteration No: 95 ended. Search finished for the next optimal point.\n",
      "Time taken: 0.6413\n",
      "Function value obtained: -0.1940\n",
      "Current minimum: -0.2181\n",
      "Iteration No: 96 started. Searching for the next optimal point.\n"
     ]
    },
    {
     "name": "stderr",
     "output_type": "stream",
     "text": [
      "c:\\users\\diego.mayer\\documents\\developer\\projects\\movie_recommendation\\venv\\lib\\site-packages\\lightgbm\\basic.py:546: UserWarning: Converting data to scipy sparse matrix.\n",
      "  warnings.warn('Converting data to scipy sparse matrix.')\n"
     ]
    },
    {
     "name": "stdout",
     "output_type": "stream",
     "text": [
      "Iteration No: 96 ended. Search finished for the next optimal point.\n",
      "Time taken: 0.5735\n",
      "Function value obtained: -0.1917\n",
      "Current minimum: -0.2181\n",
      "Iteration No: 97 started. Searching for the next optimal point.\n"
     ]
    },
    {
     "name": "stderr",
     "output_type": "stream",
     "text": [
      "c:\\users\\diego.mayer\\documents\\developer\\projects\\movie_recommendation\\venv\\lib\\site-packages\\lightgbm\\basic.py:546: UserWarning: Converting data to scipy sparse matrix.\n",
      "  warnings.warn('Converting data to scipy sparse matrix.')\n"
     ]
    },
    {
     "name": "stdout",
     "output_type": "stream",
     "text": [
      "Iteration No: 97 ended. Search finished for the next optimal point.\n",
      "Time taken: 0.6438\n",
      "Function value obtained: -0.1581\n",
      "Current minimum: -0.2181\n",
      "Iteration No: 98 started. Searching for the next optimal point.\n"
     ]
    },
    {
     "name": "stderr",
     "output_type": "stream",
     "text": [
      "c:\\users\\diego.mayer\\documents\\developer\\projects\\movie_recommendation\\venv\\lib\\site-packages\\lightgbm\\basic.py:546: UserWarning: Converting data to scipy sparse matrix.\n",
      "  warnings.warn('Converting data to scipy sparse matrix.')\n"
     ]
    },
    {
     "name": "stdout",
     "output_type": "stream",
     "text": [
      "Iteration No: 98 ended. Search finished for the next optimal point.\n",
      "Time taken: 0.6146\n",
      "Function value obtained: -0.1698\n",
      "Current minimum: -0.2181\n",
      "Iteration No: 99 started. Searching for the next optimal point.\n"
     ]
    },
    {
     "name": "stderr",
     "output_type": "stream",
     "text": [
      "c:\\users\\diego.mayer\\documents\\developer\\projects\\movie_recommendation\\venv\\lib\\site-packages\\lightgbm\\basic.py:546: UserWarning: Converting data to scipy sparse matrix.\n",
      "  warnings.warn('Converting data to scipy sparse matrix.')\n"
     ]
    },
    {
     "name": "stdout",
     "output_type": "stream",
     "text": [
      "Iteration No: 99 ended. Search finished for the next optimal point.\n",
      "Time taken: 0.5952\n",
      "Function value obtained: -0.2282\n",
      "Current minimum: -0.2282\n",
      "Iteration No: 100 started. Searching for the next optimal point.\n"
     ]
    },
    {
     "name": "stderr",
     "output_type": "stream",
     "text": [
      "c:\\users\\diego.mayer\\documents\\developer\\projects\\movie_recommendation\\venv\\lib\\site-packages\\lightgbm\\basic.py:546: UserWarning: Converting data to scipy sparse matrix.\n",
      "  warnings.warn('Converting data to scipy sparse matrix.')\n"
     ]
    },
    {
     "name": "stdout",
     "output_type": "stream",
     "text": [
      "Iteration No: 100 ended. Search finished for the next optimal point.\n",
      "Time taken: 0.5649\n",
      "Function value obtained: -0.2024\n",
      "Current minimum: -0.2282\n"
     ]
    }
   ],
   "source": [
    "# space is a range or dimension that it's possible combine for get the best combination for best score\n",
    "space = [\n",
    "    (1e-3, 1e-1, 'log-uniform'), # lr\n",
    "    (1, 11), # max_depth\n",
    "    (1, 20), # min_child_samples\n",
    "    (0.05, 1.), # subsample\n",
    "    (0.05, 1.), # colsample_bytree\n",
    "    (100, 1000), # n_estimators\n",
    "    (1, 5), # min_df\n",
    "    (1, 5), # ngram_range\n",
    "]\n",
    "# Function that you can get the best parameters\n",
    "res = forest_minimize(func=tune_lgbm, dimensions=space, random_state=160745, n_random_starts=20, n_calls=100, verbose=1)"
   ]
  },
  {
   "cell_type": "code",
   "execution_count": 280,
   "metadata": {},
   "outputs": [
    {
     "name": "stdout",
     "output_type": "stream",
     "text": [
      "0.22817943310199457 0.6058854750250634\n"
     ]
    },
    {
     "name": "stderr",
     "output_type": "stream",
     "text": [
      "c:\\users\\diego.mayer\\documents\\developer\\projects\\movie_recommendation\\venv\\lib\\site-packages\\lightgbm\\basic.py:546: UserWarning: Converting data to scipy sparse matrix.\n",
      "  warnings.warn('Converting data to scipy sparse matrix.')\n"
     ]
    }
   ],
   "source": [
    "p_lgbm, mdl_lgbm, title_vec = tune_lgbm(res.x, tune=False)"
   ]
  },
  {
   "cell_type": "markdown",
   "metadata": {},
   "source": [
    "    0.19202825084877856 0.6055021525033909 - 1,2 n_gram\n",
    "    0.22817943310199457 0.6058854750250634 - 1,3\n",
    "    0.230251348614118   0.6037624579819543 - 1,4\n",
    "    0.22778106565523465 0.6025830040691159 - 1,5"
   ]
  },
  {
   "cell_type": "markdown",
   "metadata": {},
   "source": [
    "# Logistic Regression"
   ]
  },
  {
   "cell_type": "code",
   "execution_count": 194,
   "metadata": {},
   "outputs": [
    {
     "data": {
      "text/plain": [
       "(0.22125869093931344, 0.6827858701421242)"
      ]
     },
     "execution_count": 194,
     "metadata": {},
     "output_type": "execute_result"
    }
   ],
   "source": [
    "Xtrain_wtitle2 = csr_matrix(Xtrain_wtitle.copy())\n",
    "Xval_wtitle2 = csr_matrix(Xval_wtitle.copy())\n",
    "\n",
    "# in this case was warst than MaxAbsScaler\n",
    "#scaler = StandardScaler()\n",
    "#Xtrain_wtitle2[:, :2] = scaler.fit_transform(Xtrain_wtitle2[:, :2].todense())\n",
    "#Xval_wtitle2[:, :2] = scaler.transform(Xval_wtitle2[:, :2].todense())\n",
    "scaler = MaxAbsScaler()\n",
    "Xtrain_wtitle2 = scaler.fit_transform(Xtrain_wtitle2) # with max we can put all columns easier than standardscaler\n",
    "Xval_wtitle2 = scaler.transform(Xval_wtitle2)\n",
    "\n",
    "\n",
    "mdl = LogisticRegression(C=0.3, random_state=0, n_jobs=6, penalty='l2')\n",
    "mdl.fit(Xtrain_wtitle2, ytrain)\n",
    "\n",
    "p_lr = mdl.predict_proba(Xval_wtitle2)[:, 1]\n",
    "\n",
    "average_precision_score(yval, p_lr), roc_auc_score(yval, p_lr)"
   ]
  },
  {
   "cell_type": "markdown",
   "metadata": {},
   "source": [
    "### Metrics Logistic Regression\n",
    "    ap -> 0.20739038717036196 roc -> 0.662027481276169 -> StandardScaler()\n",
    "    ap -> 0.2052824213278625  roc -> 0.686530636315386 -> MaxAbsScaler()\n",
    "    ap -> 0.2150545436183453  roc -> 0.687031904228342 -> MaxAbsScaler() params(c=0.5)\n",
    "    ap -> 0.2212586909393134  roc -> 0.682785870142124 -> MaxAbsScaler() params(c=0.3)"
   ]
  },
  {
   "cell_type": "markdown",
   "metadata": {},
   "source": [
    "# Pipeline"
   ]
  },
  {
   "cell_type": "code",
   "execution_count": 195,
   "metadata": {},
   "outputs": [
    {
     "data": {
      "text/plain": [
       "(0.22125869093931344, 0.6827858701421242)"
      ]
     },
     "execution_count": 195,
     "metadata": {},
     "output_type": "execute_result"
    }
   ],
   "source": [
    "lr_pipeline = make_pipeline(MaxAbsScaler(), LogisticRegression(C=0.3, penalty='l2', n_jobs=6, random_state=0))\n",
    "lr_pipeline.fit(Xtrain_wtitle2, ytrain)\n",
    "\n",
    "p_lr = lr_pipeline.predict_proba(Xval_wtitle2)[:, 1]\n",
    "\n",
    "average_precision_score(yval, p_lr), roc_auc_score(yval, p_lr)"
   ]
  },
  {
   "cell_type": "markdown",
   "metadata": {},
   "source": [
    "# Metrics Report"
   ]
  },
  {
   "cell_type": "markdown",
   "metadata": {},
   "source": [
    "    Random Forest\n",
    "        ap -> 0.19423876065453383 roc -> 0.677802677360382 -> min_df=2, ngram_range=(1,1)\n",
    "        ap -> 0.20385285274265763 roc -> 0.680721825794657 -> min_df=1, ngram_range=(1,2)\n",
    "        ap -> 0.21799797498952303 roc -> 0.683242908533349 -> min_df=2, ngram_range=(1,2)\n",
    "        ap -> 0.2284201947891743  roc -> 0.692678539836055 -> min_df=2, ngram_range=(1,3)\n",
    "\n",
    "    LightGBM\n",
    "        ap -> 0.17930936519845178 roc -> 0.617738986849088o -> no paramas\n",
    "        ap -> 0.22817943310199457 roc -> 0.6058854750250634 -> [0.06584043384269299, 4, 20, \n",
    "                                                                0.8668305344607656, 0.07301246723740631,\n",
    "                                                                822, 5, 3]\n",
    "\n",
    "    LogisticRegression\n",
    "        ap -> 0.21516167484835547 roc -> 0.6830807336203338 -> no params\n",
    "        ap -> 0.2212586909393134  roc -> 0.682785870142124  -> MaxAbsScaler() params(c=0.3)"
   ]
  },
  {
   "cell_type": "markdown",
   "metadata": {},
   "source": [
    "# Ensemble"
   ]
  },
  {
   "cell_type": "markdown",
   "metadata": {
    "jupyter": {
     "outputs_hidden": true
    }
   },
   "source": [
    "    LG = (0.22125869093931344, 0.6827858701421242)\n",
    "    lgbm = (0.22817943310199457, 0.6058854750250634)\n",
    "    RF - (0.2284201947891743, 0.6926785398360559)"
   ]
  },
  {
   "cell_type": "code",
   "execution_count": 260,
   "metadata": {},
   "outputs": [],
   "source": [
    "p = (p_rf + p_lgbm + p_lr)\n",
    "average_precision_score(yval, p), roc_auc_score(yval, p)"
   ]
  },
  {
   "cell_type": "code",
   "execution_count": 284,
   "metadata": {},
   "outputs": [
    {
     "data": {
      "text/html": [
       "<div>\n",
       "<style scoped>\n",
       "    .dataframe tbody tr th:only-of-type {\n",
       "        vertical-align: middle;\n",
       "    }\n",
       "\n",
       "    .dataframe tbody tr th {\n",
       "        vertical-align: top;\n",
       "    }\n",
       "\n",
       "    .dataframe thead th {\n",
       "        text-align: right;\n",
       "    }\n",
       "</style>\n",
       "<table border=\"1\" class=\"dataframe\">\n",
       "  <thead>\n",
       "    <tr style=\"text-align: right;\">\n",
       "      <th></th>\n",
       "      <th>RF</th>\n",
       "      <th>LR</th>\n",
       "      <th>LGBM</th>\n",
       "    </tr>\n",
       "  </thead>\n",
       "  <tbody>\n",
       "    <tr>\n",
       "      <th>RF</th>\n",
       "      <td>1.000000</td>\n",
       "      <td>0.812706</td>\n",
       "      <td>0.377971</td>\n",
       "    </tr>\n",
       "    <tr>\n",
       "      <th>LR</th>\n",
       "      <td>0.812706</td>\n",
       "      <td>1.000000</td>\n",
       "      <td>0.481204</td>\n",
       "    </tr>\n",
       "    <tr>\n",
       "      <th>LGBM</th>\n",
       "      <td>0.377971</td>\n",
       "      <td>0.481204</td>\n",
       "      <td>1.000000</td>\n",
       "    </tr>\n",
       "  </tbody>\n",
       "</table>\n",
       "</div>"
      ],
      "text/plain": [
       "            RF        LR      LGBM\n",
       "RF    1.000000  0.812706  0.377971\n",
       "LR    0.812706  1.000000  0.481204\n",
       "LGBM  0.377971  0.481204  1.000000"
      ]
     },
     "execution_count": 284,
     "metadata": {},
     "output_type": "execute_result"
    }
   ],
   "source": [
    "pd.DataFrame({'RF':p_rf, 'LR':p_lr, 'LGBM':p_lgbm}).corr()\n",
    "# This case is important analyse that how less correlation between them it will be better for ensemble\n",
    "# because it's diferent solution but the some performance, to get more simple way solution because the deploy\n",
    "# let's doing ensemble just with RF and LGBM"
   ]
  },
  {
   "cell_type": "code",
   "execution_count": 273,
   "metadata": {},
   "outputs": [
    {
     "data": {
      "text/plain": [
       "(0.2398470587807427, 0.6143480568496785)"
      ]
     },
     "execution_count": 273,
     "metadata": {},
     "output_type": "execute_result"
    }
   ],
   "source": [
    "p = p_rf*0.1 + p_lgbm*0.9\n",
    "average_precision_score(yval, p), roc_auc_score(yval, p)"
   ]
  },
  {
   "cell_type": "markdown",
   "metadata": {},
   "source": [
    "    ngram = 1,3\n",
    "    lr + rf + lgbm -> (0.2583693577701163,  0.6576045291030252)\n",
    "         rf + lgbm -> (0.24187724466569893, 0.6233708792828919) 0.2 + 0.8\n",
    "         rf + lgbm -> (0.25879704689816807, 0.6321283245857168) 0.3 + 0.7\n",
    "         rf + lgbm -> (0.25381192004628994, 0.6567199386683965) 0.4 + 0.6\n",
    "         rf + lgbm -> (0.2687715019710023,  0.6479624933655718) 0.5 + 0.5  <--- best\n",
    "         rf + lgbm -> (0.25381192004628994, 0.6567199386683965) 0.6 + 0.4\n",
    "         rf + lgbm -> (0.24708998095614865, 0.6670106740579111) 0.7 + 0.3\n",
    "         rf + lgbm -> (0.236449556145549,   0.6750899333608539) 0.8 + 0.2\n",
    "         rf + lgbm -> (0.23366883200760735, 0.6845550510113818) 0.9 + 0.1"
   ]
  },
  {
   "cell_type": "markdown",
   "metadata": {},
   "source": [
    "# Save Models"
   ]
  },
  {
   "cell_type": "code",
   "execution_count": 285,
   "metadata": {},
   "outputs": [],
   "source": [
    "import joblib as jb"
   ]
  },
  {
   "cell_type": "code",
   "execution_count": 286,
   "metadata": {},
   "outputs": [
    {
     "data": {
      "text/plain": [
       "['title_vectorizer_20200611.pkl.z']"
      ]
     },
     "execution_count": 286,
     "metadata": {},
     "output_type": "execute_result"
    }
   ],
   "source": [
    "jb.dump(mdl_lgbm, \"lgbm_20200611.pkl.z\")\n",
    "jb.dump(mdl_rf, \"random_forest_20200611.pkl.z\")\n",
    "jb.dump(title_vec, \"title_vectorizer_20200611.pkl.z\")"
   ]
  },
  {
   "cell_type": "code",
   "execution_count": null,
   "metadata": {},
   "outputs": [],
   "source": []
  }
 ],
 "metadata": {
  "kernelspec": {
   "display_name": "Python 3",
   "language": "python",
   "name": "python3"
  },
  "language_info": {
   "codemirror_mode": {
    "name": "ipython",
    "version": 3
   },
   "file_extension": ".py",
   "mimetype": "text/x-python",
   "name": "python",
   "nbconvert_exporter": "python",
   "pygments_lexer": "ipython3",
   "version": "3.8.2"
  }
 },
 "nbformat": 4,
 "nbformat_minor": 4
}
