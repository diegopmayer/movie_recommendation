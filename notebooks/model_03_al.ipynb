{
 "cells": [
  {
   "cell_type": "code",
   "execution_count": 10,
   "metadata": {},
   "outputs": [
    {
     "name": "stdout",
     "output_type": "stream",
     "text": [
      "Populating the interactive namespace from numpy and matplotlib\n"
     ]
    }
   ],
   "source": [
    "import pandas as pd\n",
    "import numpy as np\n",
    "import re\n",
    "import time\n",
    "\n",
    "import bs4 as bs4\n",
    "import json\n",
    "\n",
    "import glob\n",
    "import tqdm\n",
    "\n",
    "pd.set_option(\"max.columns\", 131)\n",
    "\n",
    "#https://strftime.org/\n",
    "%matplotlib inline\n",
    "%pylab inline"
   ]
  },
  {
   "cell_type": "markdown",
   "metadata": {},
   "source": [
    "# Resultados do Active Learning"
   ]
  },
  {
   "cell_type": "code",
   "execution_count": 11,
   "metadata": {},
   "outputs": [
    {
     "data": {
      "text/plain": [
       "(498, 16)"
      ]
     },
     "execution_count": 11,
     "metadata": {},
     "output_type": "execute_result"
    }
   ],
   "source": [
    "df1 = pd.read_csv(\"raw_data_with_labels.csv\", index_col=0)\n",
    "df1 = df1[df1['y'].notnull()]\n",
    "df1.shape"
   ]
  },
  {
   "cell_type": "code",
   "execution_count": 12,
   "metadata": {},
   "outputs": [
    {
     "data": {
      "text/plain": [
       "(100, 18)"
      ]
     },
     "execution_count": 12,
     "metadata": {},
     "output_type": "execute_result"
    }
   ],
   "source": [
    "df2 = pd.read_csv(\"active_labels1_done.csv\", index_col=0)\n",
    "df2 = df2[df2['y'].notnull()]\n",
    "df2['novo'] = 1\n",
    "df2.shape"
   ]
  },
  {
   "cell_type": "code",
   "execution_count": 13,
   "metadata": {},
   "outputs": [
    {
     "data": {
      "text/html": [
       "<div>\n",
       "<style scoped>\n",
       "    .dataframe tbody tr th:only-of-type {\n",
       "        vertical-align: middle;\n",
       "    }\n",
       "\n",
       "    .dataframe tbody tr th {\n",
       "        vertical-align: top;\n",
       "    }\n",
       "\n",
       "    .dataframe thead th {\n",
       "        text-align: right;\n",
       "    }\n",
       "</style>\n",
       "<table border=\"1\" class=\"dataframe\">\n",
       "  <thead>\n",
       "    <tr style=\"text-align: right;\">\n",
       "      <th></th>\n",
       "      <th>watch-title</th>\n",
       "      <th>y</th>\n",
       "      <th>watch-view-count</th>\n",
       "      <th>watch-time-text</th>\n",
       "      <th>content_watch-info-tag-list</th>\n",
       "      <th>watch7-headline</th>\n",
       "      <th>watch7-user-header</th>\n",
       "      <th>watch8-sentiment-actions</th>\n",
       "      <th>og:image</th>\n",
       "      <th>og:image:width</th>\n",
       "      <th>og:image:height</th>\n",
       "      <th>og:description</th>\n",
       "      <th>og:video:width</th>\n",
       "      <th>og:video:height</th>\n",
       "      <th>og:video:tag</th>\n",
       "      <th>channel_link_0</th>\n",
       "      <th>p</th>\n",
       "      <th>novo</th>\n",
       "    </tr>\n",
       "  </thead>\n",
       "  <tbody>\n",
       "    <tr>\n",
       "      <th>505</th>\n",
       "      <td>Platform Overview - Machine Learning</td>\n",
       "      <td>0</td>\n",
       "      <td>4.298 visualizações</td>\n",
       "      <td>Publicado em 21 de mai. de 2019</td>\n",
       "      <td>Ciência e tecnologia</td>\n",
       "      <td>Platform Overview - Machine Learning</td>\n",
       "      <td>Google Cloud Platform\\n\\n\\n\\n\\n\\n\\n\\n\\n\\n\\n\\n\\...</td>\n",
       "      <td>4.298 visualizações\\n\\n\\n\\n\\n\\n\\n\\n141\\n\\nGost...</td>\n",
       "      <td>https://i.ytimg.com/vi/QR_LQQ-vvko/maxresdefau...</td>\n",
       "      <td>1280.0</td>\n",
       "      <td>720.0</td>\n",
       "      <td>In this short GCP Essentials video, see how GC...</td>\n",
       "      <td>1280.0</td>\n",
       "      <td>720.0</td>\n",
       "      <td>Alexis Moussine Pouchkine</td>\n",
       "      <td>/channel/UCJS9pqu9BzkAMNTmzNMNhvg</td>\n",
       "      <td>0.502</td>\n",
       "      <td>1</td>\n",
       "    </tr>\n",
       "  </tbody>\n",
       "</table>\n",
       "</div>"
      ],
      "text/plain": [
       "                              watch-title  y     watch-view-count  \\\n",
       "505  Platform Overview - Machine Learning  0  4.298 visualizações   \n",
       "\n",
       "                     watch-time-text content_watch-info-tag-list  \\\n",
       "505  Publicado em 21 de mai. de 2019        Ciência e tecnologia   \n",
       "\n",
       "                          watch7-headline  \\\n",
       "505  Platform Overview - Machine Learning   \n",
       "\n",
       "                                    watch7-user-header  \\\n",
       "505  Google Cloud Platform\\n\\n\\n\\n\\n\\n\\n\\n\\n\\n\\n\\n\\...   \n",
       "\n",
       "                              watch8-sentiment-actions  \\\n",
       "505  4.298 visualizações\\n\\n\\n\\n\\n\\n\\n\\n141\\n\\nGost...   \n",
       "\n",
       "                                              og:image  og:image:width  \\\n",
       "505  https://i.ytimg.com/vi/QR_LQQ-vvko/maxresdefau...          1280.0   \n",
       "\n",
       "     og:image:height                                     og:description  \\\n",
       "505            720.0  In this short GCP Essentials video, see how GC...   \n",
       "\n",
       "     og:video:width  og:video:height               og:video:tag  \\\n",
       "505          1280.0            720.0  Alexis Moussine Pouchkine   \n",
       "\n",
       "                        channel_link_0      p  novo  \n",
       "505  /channel/UCJS9pqu9BzkAMNTmzNMNhvg  0.502     1  "
      ]
     },
     "execution_count": 13,
     "metadata": {},
     "output_type": "execute_result"
    }
   ],
   "source": [
    "df2.head(1)"
   ]
  },
  {
   "cell_type": "code",
   "execution_count": 14,
   "metadata": {},
   "outputs": [
    {
     "data": {
      "text/plain": [
       "(0.2037344613689981, 0.5386250885896527)"
      ]
     },
     "execution_count": 14,
     "metadata": {},
     "output_type": "execute_result"
    }
   ],
   "source": [
    "from sklearn.metrics import roc_auc_score, average_precision_score\n",
    "average_precision_score(df2['y'],df2['p']), roc_auc_score(df2['y'],df2['p'])"
   ]
  },
  {
   "cell_type": "code",
   "execution_count": 15,
   "metadata": {
    "collapsed": true,
    "jupyter": {
     "outputs_hidden": true
    }
   },
   "outputs": [
    {
     "name": "stderr",
     "output_type": "stream",
     "text": [
      "C:\\Users\\diego.mayer\\AppData\\Local\\Continuum\\anaconda3\\lib\\site-packages\\ipykernel_launcher.py:1: FutureWarning: Sorting because non-concatenation axis is not aligned. A future version\n",
      "of pandas will change to not sort by default.\n",
      "\n",
      "To accept the future behavior, pass 'sort=False'.\n",
      "\n",
      "To retain the current behavior and silence the warning, pass 'sort=True'.\n",
      "\n",
      "  \"\"\"Entry point for launching an IPython kernel.\n"
     ]
    }
   ],
   "source": [
    "df = pd.concat([df1, df2.drop(\"p\", axis=1)])"
   ]
  },
  {
   "cell_type": "code",
   "execution_count": 16,
   "metadata": {},
   "outputs": [
    {
     "data": {
      "text/html": [
       "<div>\n",
       "<style scoped>\n",
       "    .dataframe tbody tr th:only-of-type {\n",
       "        vertical-align: middle;\n",
       "    }\n",
       "\n",
       "    .dataframe tbody tr th {\n",
       "        vertical-align: top;\n",
       "    }\n",
       "\n",
       "    .dataframe thead th {\n",
       "        text-align: right;\n",
       "    }\n",
       "</style>\n",
       "<table border=\"1\" class=\"dataframe\">\n",
       "  <thead>\n",
       "    <tr style=\"text-align: right;\">\n",
       "      <th></th>\n",
       "      <th>channel_link_0</th>\n",
       "      <th>content_watch-info-tag-list</th>\n",
       "      <th>novo</th>\n",
       "      <th>og:description</th>\n",
       "      <th>og:image</th>\n",
       "      <th>og:image:height</th>\n",
       "      <th>og:image:width</th>\n",
       "      <th>og:video:height</th>\n",
       "      <th>og:video:tag</th>\n",
       "      <th>og:video:width</th>\n",
       "      <th>watch-time-text</th>\n",
       "      <th>watch-title</th>\n",
       "      <th>watch-view-count</th>\n",
       "      <th>watch7-headline</th>\n",
       "      <th>watch7-user-header</th>\n",
       "      <th>watch8-sentiment-actions</th>\n",
       "      <th>y</th>\n",
       "    </tr>\n",
       "  </thead>\n",
       "  <tbody>\n",
       "    <tr>\n",
       "      <th>0</th>\n",
       "      <td>/channel/UCsvqVGtbbyHaMoevxPAq9Fg</td>\n",
       "      <td>Educação</td>\n",
       "      <td>NaN</td>\n",
       "      <td>This video on \"How to become a Machine Learnin...</td>\n",
       "      <td>https://i.ytimg.com/vi/-5hEYRt8JE0/maxresdefau...</td>\n",
       "      <td>720.0</td>\n",
       "      <td>1280.0</td>\n",
       "      <td>720.0</td>\n",
       "      <td>simplilearn</td>\n",
       "      <td>1280.0</td>\n",
       "      <td>Publicado em 3 de set. de 2018</td>\n",
       "      <td>How to Become A Machine Learning Engineer | Ho...</td>\n",
       "      <td>28.028 visualizações</td>\n",
       "      <td>#MachineLearningAlgorithms #Datasciencecourse ...</td>\n",
       "      <td>Simplilearn\\n\\n\\n\\n\\n\\n\\n\\n\\n\\n\\n\\n\\n\\n\\nCarre...</td>\n",
       "      <td>28.028 visualizações\\n\\n\\n\\n\\n\\n\\n\\n601\\n\\nGos...</td>\n",
       "      <td>0.0</td>\n",
       "    </tr>\n",
       "    <tr>\n",
       "      <th>1</th>\n",
       "      <td>/channel/UCTPin8TK-KRSI9zo9FoxG0g</td>\n",
       "      <td>Pessoas e blogs</td>\n",
       "      <td>NaN</td>\n",
       "      <td>#FAIL :) Have fun - and join our teams: https:...</td>\n",
       "      <td>https://i.ytimg.com/vi/-7GiiT0yEyk/maxresdefau...</td>\n",
       "      <td>720.0</td>\n",
       "      <td>1280.0</td>\n",
       "      <td>720.0</td>\n",
       "      <td>employer branding</td>\n",
       "      <td>1280.0</td>\n",
       "      <td>Publicado em 16 de nov. de 2018</td>\n",
       "      <td>BLOOPERS - Behind The Scenes. | DATA SCIENCE x...</td>\n",
       "      <td>1.131 visualizações</td>\n",
       "      <td>#FAIL #insidezalando\\n\\n\\n\\n    BLOOPERS - Beh...</td>\n",
       "      <td>Inside Zalando\\n\\n\\n\\n\\n\\n\\n\\n\\n\\n\\n\\n\\n\\nCarr...</td>\n",
       "      <td>1.131 visualizações\\n\\n\\n\\n\\n\\n\\n\\n20\\n\\nGosto...</td>\n",
       "      <td>0.0</td>\n",
       "    </tr>\n",
       "    <tr>\n",
       "      <th>2</th>\n",
       "      <td>/channel/UC8FZ6dzFVkCACLH9YoMNFog</td>\n",
       "      <td>Licença de atribuição Creative Commons (reutil...</td>\n",
       "      <td>NaN</td>\n",
       "      <td>2019 Purdue Engineering Distinguished Lecture ...</td>\n",
       "      <td>https://i.ytimg.com/vi/-8yYFdV5SOc/maxresdefau...</td>\n",
       "      <td>720.0</td>\n",
       "      <td>1280.0</td>\n",
       "      <td>720.0</td>\n",
       "      <td>electrical engineer</td>\n",
       "      <td>1280.0</td>\n",
       "      <td>Publicado em 2 de mai. de 2019</td>\n",
       "      <td>Michael I. Jordan: Machine Learning: Dynamical...</td>\n",
       "      <td>1.816 visualizações</td>\n",
       "      <td>#purdue #michaelijordan #engineering\\n\\n\\n\\n  ...</td>\n",
       "      <td>Purdue Engineering\\n\\n\\n\\n\\n\\n\\n\\n\\n\\n\\n\\n\\n\\n...</td>\n",
       "      <td>1.816 visualizações\\n\\n\\n\\n\\n\\n\\n\\n42\\n\\nGosto...</td>\n",
       "      <td>1.0</td>\n",
       "    </tr>\n",
       "    <tr>\n",
       "      <th>3</th>\n",
       "      <td>/channel/UC_215Y7rOAsqnFkO_hnpdIg</td>\n",
       "      <td>Ciência e tecnologia</td>\n",
       "      <td>NaN</td>\n",
       "      <td>A collection of the 5 best deep learning tools...</td>\n",
       "      <td>https://i.ytimg.com/vi/-9LLrwW1Vdo/maxresdefau...</td>\n",
       "      <td>720.0</td>\n",
       "      <td>1280.0</td>\n",
       "      <td>720.0</td>\n",
       "      <td>Watson</td>\n",
       "      <td>1280.0</td>\n",
       "      <td>Publicado em 13 de ago. de 2019</td>\n",
       "      <td>Best Deep Learning Tools - Welcome.AI</td>\n",
       "      <td>1.171 visualizações</td>\n",
       "      <td>Best Deep Learning Tools - Welcome.AI</td>\n",
       "      <td>Welcome.AI\\n\\n\\n\\n\\n\\n\\n\\n\\n\\n\\n\\n\\n\\nCarregan...</td>\n",
       "      <td>1.171 visualizações\\n\\n\\n\\n\\n\\n\\n\\n14\\n\\nGosto...</td>\n",
       "      <td>0.0</td>\n",
       "    </tr>\n",
       "    <tr>\n",
       "      <th>4</th>\n",
       "      <td>/channel/UCSNeZleDn9c74yQc-EKnVTA</td>\n",
       "      <td>Ciência e tecnologia</td>\n",
       "      <td>NaN</td>\n",
       "      <td>Join Kaggle data scientist Rachael live as she...</td>\n",
       "      <td>https://i.ytimg.com/vi/-9U84J178OQ/maxresdefau...</td>\n",
       "      <td>720.0</td>\n",
       "      <td>1280.0</td>\n",
       "      <td>720.0</td>\n",
       "      <td>CS</td>\n",
       "      <td>1280.0</td>\n",
       "      <td>Transmitido ao vivo em 30 de nov. de 2018</td>\n",
       "      <td>Kaggle Live-Coding: RNNs for Sarcasm Detection...</td>\n",
       "      <td>1.228 visualizações</td>\n",
       "      <td>Kaggle Live-Coding: RNNs for Sarcasm Detection...</td>\n",
       "      <td>Kaggle\\n\\n\\n\\n\\n\\n\\n\\n\\n\\n\\n\\n\\n\\nCarregando.....</td>\n",
       "      <td>1.228 visualizações\\n\\n\\n\\n\\n\\n\\n\\n28\\n\\nGosto...</td>\n",
       "      <td>1.0</td>\n",
       "    </tr>\n",
       "  </tbody>\n",
       "</table>\n",
       "</div>"
      ],
      "text/plain": [
       "                      channel_link_0  \\\n",
       "0  /channel/UCsvqVGtbbyHaMoevxPAq9Fg   \n",
       "1  /channel/UCTPin8TK-KRSI9zo9FoxG0g   \n",
       "2  /channel/UC8FZ6dzFVkCACLH9YoMNFog   \n",
       "3  /channel/UC_215Y7rOAsqnFkO_hnpdIg   \n",
       "4  /channel/UCSNeZleDn9c74yQc-EKnVTA   \n",
       "\n",
       "                         content_watch-info-tag-list  novo  \\\n",
       "0                                           Educação   NaN   \n",
       "1                                    Pessoas e blogs   NaN   \n",
       "2  Licença de atribuição Creative Commons (reutil...   NaN   \n",
       "3                               Ciência e tecnologia   NaN   \n",
       "4                               Ciência e tecnologia   NaN   \n",
       "\n",
       "                                      og:description  \\\n",
       "0  This video on \"How to become a Machine Learnin...   \n",
       "1  #FAIL :) Have fun - and join our teams: https:...   \n",
       "2  2019 Purdue Engineering Distinguished Lecture ...   \n",
       "3  A collection of the 5 best deep learning tools...   \n",
       "4  Join Kaggle data scientist Rachael live as she...   \n",
       "\n",
       "                                            og:image  og:image:height  \\\n",
       "0  https://i.ytimg.com/vi/-5hEYRt8JE0/maxresdefau...            720.0   \n",
       "1  https://i.ytimg.com/vi/-7GiiT0yEyk/maxresdefau...            720.0   \n",
       "2  https://i.ytimg.com/vi/-8yYFdV5SOc/maxresdefau...            720.0   \n",
       "3  https://i.ytimg.com/vi/-9LLrwW1Vdo/maxresdefau...            720.0   \n",
       "4  https://i.ytimg.com/vi/-9U84J178OQ/maxresdefau...            720.0   \n",
       "\n",
       "   og:image:width  og:video:height         og:video:tag  og:video:width  \\\n",
       "0          1280.0            720.0          simplilearn          1280.0   \n",
       "1          1280.0            720.0    employer branding          1280.0   \n",
       "2          1280.0            720.0  electrical engineer          1280.0   \n",
       "3          1280.0            720.0               Watson          1280.0   \n",
       "4          1280.0            720.0                   CS          1280.0   \n",
       "\n",
       "                             watch-time-text  \\\n",
       "0             Publicado em 3 de set. de 2018   \n",
       "1            Publicado em 16 de nov. de 2018   \n",
       "2             Publicado em 2 de mai. de 2019   \n",
       "3            Publicado em 13 de ago. de 2019   \n",
       "4  Transmitido ao vivo em 30 de nov. de 2018   \n",
       "\n",
       "                                         watch-title      watch-view-count  \\\n",
       "0  How to Become A Machine Learning Engineer | Ho...  28.028 visualizações   \n",
       "1  BLOOPERS - Behind The Scenes. | DATA SCIENCE x...   1.131 visualizações   \n",
       "2  Michael I. Jordan: Machine Learning: Dynamical...   1.816 visualizações   \n",
       "3              Best Deep Learning Tools - Welcome.AI   1.171 visualizações   \n",
       "4  Kaggle Live-Coding: RNNs for Sarcasm Detection...   1.228 visualizações   \n",
       "\n",
       "                                     watch7-headline  \\\n",
       "0  #MachineLearningAlgorithms #Datasciencecourse ...   \n",
       "1  #FAIL #insidezalando\\n\\n\\n\\n    BLOOPERS - Beh...   \n",
       "2  #purdue #michaelijordan #engineering\\n\\n\\n\\n  ...   \n",
       "3              Best Deep Learning Tools - Welcome.AI   \n",
       "4  Kaggle Live-Coding: RNNs for Sarcasm Detection...   \n",
       "\n",
       "                                  watch7-user-header  \\\n",
       "0  Simplilearn\\n\\n\\n\\n\\n\\n\\n\\n\\n\\n\\n\\n\\n\\n\\nCarre...   \n",
       "1  Inside Zalando\\n\\n\\n\\n\\n\\n\\n\\n\\n\\n\\n\\n\\n\\nCarr...   \n",
       "2  Purdue Engineering\\n\\n\\n\\n\\n\\n\\n\\n\\n\\n\\n\\n\\n\\n...   \n",
       "3  Welcome.AI\\n\\n\\n\\n\\n\\n\\n\\n\\n\\n\\n\\n\\n\\nCarregan...   \n",
       "4  Kaggle\\n\\n\\n\\n\\n\\n\\n\\n\\n\\n\\n\\n\\n\\nCarregando.....   \n",
       "\n",
       "                            watch8-sentiment-actions    y  \n",
       "0  28.028 visualizações\\n\\n\\n\\n\\n\\n\\n\\n601\\n\\nGos...  0.0  \n",
       "1  1.131 visualizações\\n\\n\\n\\n\\n\\n\\n\\n20\\n\\nGosto...  0.0  \n",
       "2  1.816 visualizações\\n\\n\\n\\n\\n\\n\\n\\n42\\n\\nGosto...  1.0  \n",
       "3  1.171 visualizações\\n\\n\\n\\n\\n\\n\\n\\n14\\n\\nGosto...  0.0  \n",
       "4  1.228 visualizações\\n\\n\\n\\n\\n\\n\\n\\n28\\n\\nGosto...  1.0  "
      ]
     },
     "execution_count": 16,
     "metadata": {},
     "output_type": "execute_result"
    }
   ],
   "source": [
    "df.head()"
   ]
  },
  {
   "cell_type": "code",
   "execution_count": 17,
   "metadata": {},
   "outputs": [],
   "source": [
    "from sklearn.linear_model import LogisticRegression\n",
    "from sklearn.ensemble import RandomForestClassifier"
   ]
  },
  {
   "cell_type": "code",
   "execution_count": 18,
   "metadata": {},
   "outputs": [],
   "source": [
    "df_limpo = pd.DataFrame(index=df.index)\n",
    "df_limpo['title'] = df['watch-title']\n",
    "df_limpo['novo'] = df['novo'].fillna(0)"
   ]
  },
  {
   "cell_type": "markdown",
   "metadata": {},
   "source": [
    "## 1. Limpeza da data"
   ]
  },
  {
   "cell_type": "code",
   "execution_count": 19,
   "metadata": {},
   "outputs": [],
   "source": [
    "clean_date = df['watch-time-text'].str.extract(r\"(\\d+) de ([a-z]+)\\. de (\\d+)\")\n",
    "clean_date[0] = clean_date[0].map(lambda x: \"0\"+x[0] if len(x) == 1 else x)\n",
    "#clean_date[1] = clean_date[1].map(lambda x: x[0].upper()+x[1:])\n",
    "\n",
    "mapa_meses = {\"jan\": \"Jan\",\n",
    "              \"fev\": \"Feb\",\n",
    "              \"mar\": \"Mar\", \n",
    "              \"abr\": \"Apr\", \n",
    "              \"mai\": \"May\", \n",
    "              \"jun\": \"Jun\",\n",
    "              \"jul\": \"Jul\",\n",
    "              \"ago\": \"Aug\", \n",
    "              \"set\": \"Sep\", \n",
    "              \"out\": \"Oct\", \n",
    "              \"nov\": \"Nov\",\n",
    "              \"dez\": \"Dec\"}\n",
    "\n",
    "clean_date[1] = clean_date[1].map(mapa_meses)\n",
    "\n",
    "clean_date = clean_date.apply(lambda x: \" \".join(x), axis=1)\n",
    "clean_date.head()\n",
    "df_limpo['date'] = pd.to_datetime(clean_date, format=\"%d %b %Y\")"
   ]
  },
  {
   "cell_type": "markdown",
   "metadata": {},
   "source": [
    "## 2. Limpeza de Views"
   ]
  },
  {
   "cell_type": "code",
   "execution_count": 20,
   "metadata": {},
   "outputs": [],
   "source": [
    "views = df['watch-view-count'].str.extract(r\"(\\d+\\.?\\d*)\", expand=False).str.replace(\".\", \"\").fillna(0).astype(int)\n",
    "df_limpo['views'] = views"
   ]
  },
  {
   "cell_type": "markdown",
   "metadata": {},
   "source": [
    "## 3. Features"
   ]
  },
  {
   "cell_type": "code",
   "execution_count": 21,
   "metadata": {},
   "outputs": [],
   "source": [
    "features = pd.DataFrame(index=df_limpo.index)\n",
    "y = df['y'].copy()"
   ]
  },
  {
   "cell_type": "code",
   "execution_count": 22,
   "metadata": {},
   "outputs": [],
   "source": [
    "features['tempo_desde_pub'] = (pd.to_datetime(\"2019-12-03\") - df_limpo['date']) / np.timedelta64(1, 'D')\n",
    "features['views'] = df_limpo['views']\n",
    "features['views_por_dia'] = features['views'] / features['tempo_desde_pub']\n",
    "features = features.drop(['tempo_desde_pub'], axis=1)"
   ]
  },
  {
   "cell_type": "code",
   "execution_count": 23,
   "metadata": {},
   "outputs": [
    {
     "data": {
      "text/html": [
       "<div>\n",
       "<style scoped>\n",
       "    .dataframe tbody tr th:only-of-type {\n",
       "        vertical-align: middle;\n",
       "    }\n",
       "\n",
       "    .dataframe tbody tr th {\n",
       "        vertical-align: top;\n",
       "    }\n",
       "\n",
       "    .dataframe thead th {\n",
       "        text-align: right;\n",
       "    }\n",
       "</style>\n",
       "<table border=\"1\" class=\"dataframe\">\n",
       "  <thead>\n",
       "    <tr style=\"text-align: right;\">\n",
       "      <th></th>\n",
       "      <th>views</th>\n",
       "      <th>views_por_dia</th>\n",
       "    </tr>\n",
       "  </thead>\n",
       "  <tbody>\n",
       "    <tr>\n",
       "      <th>0</th>\n",
       "      <td>28028</td>\n",
       "      <td>61.464912</td>\n",
       "    </tr>\n",
       "    <tr>\n",
       "      <th>1</th>\n",
       "      <td>1131</td>\n",
       "      <td>2.960733</td>\n",
       "    </tr>\n",
       "    <tr>\n",
       "      <th>2</th>\n",
       "      <td>1816</td>\n",
       "      <td>8.446512</td>\n",
       "    </tr>\n",
       "    <tr>\n",
       "      <th>3</th>\n",
       "      <td>1171</td>\n",
       "      <td>10.455357</td>\n",
       "    </tr>\n",
       "    <tr>\n",
       "      <th>4</th>\n",
       "      <td>1228</td>\n",
       "      <td>3.336957</td>\n",
       "    </tr>\n",
       "  </tbody>\n",
       "</table>\n",
       "</div>"
      ],
      "text/plain": [
       "   views  views_por_dia\n",
       "0  28028      61.464912\n",
       "1   1131       2.960733\n",
       "2   1816       8.446512\n",
       "3   1171      10.455357\n",
       "4   1228       3.336957"
      ]
     },
     "execution_count": 23,
     "metadata": {},
     "output_type": "execute_result"
    }
   ],
   "source": [
    "features.head()"
   ]
  },
  {
   "cell_type": "markdown",
   "metadata": {},
   "source": [
    "# Aumenta validação"
   ]
  },
  {
   "cell_type": "code",
   "execution_count": 24,
   "metadata": {},
   "outputs": [
    {
     "data": {
      "text/plain": [
       "((228, 2), (316, 2), (228,), (316,))"
      ]
     },
     "execution_count": 24,
     "metadata": {},
     "output_type": "execute_result"
    }
   ],
   "source": [
    "mask_train = (df_limpo['date'] < \"2019-04-01\") & (df_limpo['novo'] == 0)\n",
    "\n",
    "mask_val = (df_limpo['date'] >= \"2019-04-01\")\n",
    "\n",
    "Xtrain, Xval = features[mask_train], features[mask_val]\n",
    "ytrain, yval = y[mask_train], y[mask_val]\n",
    "Xtrain.shape, Xval.shape, ytrain.shape, yval.shape"
   ]
  },
  {
   "cell_type": "code",
   "execution_count": 25,
   "metadata": {},
   "outputs": [],
   "source": [
    "from sklearn.feature_extraction.text import TfidfVectorizer\n",
    "\n",
    "title_train = df_limpo[mask_train]['title']\n",
    "title_val = df_limpo[mask_val]['title']\n",
    "\n",
    "title_vec = TfidfVectorizer(min_df=2)\n",
    "title_bow_train = title_vec.fit_transform(title_train)\n",
    "title_bow_val = title_vec.transform(title_val)\n"
   ]
  },
  {
   "cell_type": "code",
   "execution_count": 26,
   "metadata": {},
   "outputs": [
    {
     "data": {
      "text/plain": [
       "(228, 193)"
      ]
     },
     "execution_count": 26,
     "metadata": {},
     "output_type": "execute_result"
    }
   ],
   "source": [
    "title_bow_train.shape"
   ]
  },
  {
   "cell_type": "code",
   "execution_count": 27,
   "metadata": {},
   "outputs": [],
   "source": [
    "from scipy.sparse import hstack, vstack\n",
    "\n",
    "Xtrain_wtitle = hstack([Xtrain, title_bow_train])\n",
    "Xval_wtitle = hstack([Xval, title_bow_val])"
   ]
  },
  {
   "cell_type": "code",
   "execution_count": 28,
   "metadata": {},
   "outputs": [
    {
     "data": {
      "text/plain": [
       "((228, 195), (316, 195))"
      ]
     },
     "execution_count": 28,
     "metadata": {},
     "output_type": "execute_result"
    }
   ],
   "source": [
    "Xtrain_wtitle.shape, Xval_wtitle.shape"
   ]
  },
  {
   "cell_type": "code",
   "execution_count": 29,
   "metadata": {},
   "outputs": [
    {
     "data": {
      "text/plain": [
       "RandomForestClassifier(bootstrap=True, class_weight='balanced',\n",
       "                       criterion='gini', max_depth=None, max_features='auto',\n",
       "                       max_leaf_nodes=None, min_impurity_decrease=0.0,\n",
       "                       min_impurity_split=None, min_samples_leaf=1,\n",
       "                       min_samples_split=2, min_weight_fraction_leaf=0.0,\n",
       "                       n_estimators=1000, n_jobs=6, oob_score=False,\n",
       "                       random_state=0, verbose=0, warm_start=False)"
      ]
     },
     "execution_count": 29,
     "metadata": {},
     "output_type": "execute_result"
    }
   ],
   "source": [
    "mdl = RandomForestClassifier(n_estimators=1000, random_state=0, class_weight=\"balanced\", n_jobs=6)\n",
    "mdl.fit(Xtrain_wtitle, ytrain)"
   ]
  },
  {
   "cell_type": "code",
   "execution_count": 30,
   "metadata": {},
   "outputs": [],
   "source": [
    "p = mdl.predict_proba(Xval_wtitle)[:, 1]"
   ]
  },
  {
   "cell_type": "code",
   "execution_count": 31,
   "metadata": {},
   "outputs": [],
   "source": [
    "from sklearn.metrics import roc_auc_score, average_precision_score"
   ]
  },
  {
   "cell_type": "code",
   "execution_count": 32,
   "metadata": {},
   "outputs": [
    {
     "data": {
      "text/plain": [
       "(0.1872802752830275, 0.5935436218282933)"
      ]
     },
     "execution_count": 32,
     "metadata": {},
     "output_type": "execute_result"
    }
   ],
   "source": [
    "average_precision_score(yval, p), roc_auc_score(yval, p)"
   ]
  },
  {
   "cell_type": "markdown",
   "metadata": {},
   "source": [
    "ANTES  \n",
    "ap 0.1918043901336543, auc 0.5848024316109421 - mindf=2  \n"
   ]
  },
  {
   "cell_type": "markdown",
   "metadata": {},
   "source": [
    "# Aumenta treino"
   ]
  },
  {
   "cell_type": "code",
   "execution_count": 33,
   "metadata": {},
   "outputs": [],
   "source": [
    "mask_train = (df_limpo['date'] < \"2019-04-01\")\n",
    "#mask_val = (df_limpo['date'] >= \"2019-04-01\") & (df_limpo['novo'] == 0)\n",
    "mask_val = (df_limpo['date'] >= \"2019-04-01\")"
   ]
  },
  {
   "cell_type": "code",
   "execution_count": 34,
   "metadata": {},
   "outputs": [
    {
     "data": {
      "text/plain": [
       "(0.19342838733336654, 0.6095324991310394)"
      ]
     },
     "execution_count": 34,
     "metadata": {},
     "output_type": "execute_result"
    }
   ],
   "source": [
    "Xtrain, Xval = features[mask_train], features[mask_val]\n",
    "ytrain, yval = y[mask_train], y[mask_val]\n",
    "Xtrain.shape, Xval.shape, ytrain.shape, yval.shape\n",
    "\n",
    "title_train = df_limpo[mask_train]['title']\n",
    "title_val = df_limpo[mask_val]['title']\n",
    "\n",
    "title_vec = TfidfVectorizer(min_df=2)\n",
    "title_bow_train = title_vec.fit_transform(title_train)\n",
    "title_bow_val = title_vec.transform(title_val)\n",
    "\n",
    "Xtrain_wtitle = hstack([Xtrain, title_bow_train])\n",
    "Xval_wtitle = hstack([Xval, title_bow_val])\n",
    "\n",
    "\n",
    "mdl = RandomForestClassifier(n_estimators=1000, random_state=0, class_weight=\"balanced\", n_jobs=6)\n",
    "mdl.fit(Xtrain_wtitle, ytrain)\n",
    "\n",
    "p = mdl.predict_proba(Xval_wtitle)[:, 1]\n",
    "\n",
    "average_precision_score(yval, p), roc_auc_score(yval, p)"
   ]
  },
  {
   "cell_type": "markdown",
   "metadata": {},
   "source": [
    "ANTES  \n",
    "ap 0.1918043901336543, auc 0.5848024316109421 - mindf=2  \n",
    "\n",
    "Valid nova, treino antigo  \n",
    "ap 0.1872802752830275, auc 0.5935436218282933\n",
    "\n",
    "Valid antiga, treino novo  \n",
    "ap 0.17697903398635972, auc 0.5964133738601823\n",
    "\n",
    "Tudo novo  \n",
    "ap 0.19342838733336654, auc 0.6095324991310394"
   ]
  },
  {
   "cell_type": "code",
   "execution_count": null,
   "metadata": {},
   "outputs": [],
   "source": []
  }
 ],
 "metadata": {
  "kernelspec": {
   "display_name": "Python 3",
   "language": "python",
   "name": "python3"
  },
  "language_info": {
   "codemirror_mode": {
    "name": "ipython",
    "version": 3
   },
   "file_extension": ".py",
   "mimetype": "text/x-python",
   "name": "python",
   "nbconvert_exporter": "python",
   "pygments_lexer": "ipython3",
   "version": "3.7.3"
  }
 },
 "nbformat": 4,
 "nbformat_minor": 4
}
